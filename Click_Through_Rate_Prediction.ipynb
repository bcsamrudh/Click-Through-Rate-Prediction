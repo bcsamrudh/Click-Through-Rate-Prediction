{
  "cells": [
    {
      "cell_type": "markdown",
      "metadata": {
        "id": "Qzrrp9U-s7gJ"
      },
      "source": [
        "# Click-Through Rate Prediction"
      ]
    },
    {
      "cell_type": "code",
      "execution_count": null,
      "metadata": {
        "id": "ANszVnX_s7gN"
      },
      "outputs": [],
      "source": [
        "import numpy as np\n",
        "import pandas as pd\n",
        "import seaborn as sns\n",
        "import matplotlib.pyplot as plt\n",
        "from datetime import datetime"
      ]
    },
    {
      "cell_type": "code",
      "execution_count": null,
      "metadata": {
        "id": "vJc2AjHUs7gQ"
      },
      "outputs": [],
      "source": [
        "pd.set_option('display.max_columns', None)"
      ]
    },
    {
      "cell_type": "code",
      "execution_count": null,
      "metadata": {
        "id": "5FYuz0Acs7gR"
      },
      "outputs": [],
      "source": [
        "train = pd.read_csv('train.gz',compression='gzip')"
      ]
    },
    {
      "cell_type": "code",
      "execution_count": null,
      "metadata": {
        "id": "mwP2KnfKs7gS"
      },
      "outputs": [],
      "source": [
        "train.head()"
      ]
    },
    {
      "cell_type": "code",
      "execution_count": null,
      "metadata": {
        "id": "Ykujj3zss7gS"
      },
      "outputs": [],
      "source": [
        "train['hour']=train['hour'].apply(lambda x: x + 2000000000)"
      ]
    },
    {
      "cell_type": "code",
      "execution_count": null,
      "metadata": {
        "id": "uI_Vpeu2s7gT"
      },
      "outputs": [],
      "source": [
        "train['hour']=train['hour'].apply(lambda x: datetime.strptime(str(x), '%Y%m%d%H').strftime('%Y-%m-%d-%H'))"
      ]
    },
    {
      "cell_type": "code",
      "execution_count": null,
      "metadata": {
        "id": "hdAa4geCs7gU"
      },
      "outputs": [],
      "source": [
        "train = train.rename(columns={\"hour\": \"date\"})"
      ]
    },
    {
      "cell_type": "code",
      "execution_count": null,
      "metadata": {
        "id": "X00f0ptgs7gV"
      },
      "outputs": [],
      "source": [
        "train.groupby('date')['id'].count().reset_index()"
      ]
    },
    {
      "cell_type": "markdown",
      "metadata": {
        "id": "lZ6fFDHes7gW"
      },
      "source": [
        "The data covers 10 days of click streams data from 2014-10-21 to 2014-10-30, we just pick all the data on '2014-10-21'"
      ]
    },
    {
      "cell_type": "code",
      "execution_count": null,
      "metadata": {
        "id": "dXFUKa-us7gX"
      },
      "outputs": [],
      "source": [
        "train = train[(train['date']>='2014-10-21-00')&(train['date']<='2014-10-21-23')]"
      ]
    },
    {
      "cell_type": "code",
      "execution_count": null,
      "metadata": {
        "id": "FcV8rJJrs7gY"
      },
      "outputs": [],
      "source": [
        "train = pd.read_csv(\"finaltrain.csv\")"
      ]
    },
    {
      "cell_type": "code",
      "execution_count": null,
      "metadata": {
        "id": "U3_iFdzIs7gY",
        "outputId": "24693ef2-208d-4d82-b37a-908e320ff21d"
      },
      "outputs": [
        {
          "data": {
            "text/plain": [
              "(4122995, 24)"
            ]
          },
          "execution_count": 4,
          "metadata": {},
          "output_type": "execute_result"
        }
      ],
      "source": [
        "train.shape"
      ]
    },
    {
      "cell_type": "code",
      "execution_count": null,
      "metadata": {
        "id": "wf7obK2Ps7ga"
      },
      "outputs": [],
      "source": [
        "train.dtypes"
      ]
    },
    {
      "cell_type": "code",
      "execution_count": null,
      "metadata": {
        "id": "lWoXRZ0vs7gb"
      },
      "outputs": [],
      "source": [
        "train['click'].value_counts()"
      ]
    },
    {
      "cell_type": "code",
      "execution_count": null,
      "metadata": {
        "id": "rZGMeqMcs7gb"
      },
      "outputs": [],
      "source": [
        "import seaborn as sns\n",
        "import matplotlib.pyplot as plt\n",
        "\n",
        "sns.countplot(x='click',data=train, palette='hls')\n",
        "plt.show();"
      ]
    },
    {
      "cell_type": "code",
      "execution_count": null,
      "metadata": {
        "id": "tZe_i2f5s7gb"
      },
      "outputs": [],
      "source": [
        "train['click'].value_counts()/len(train)"
      ]
    },
    {
      "cell_type": "markdown",
      "metadata": {
        "id": "ntzzO5Kes7gc"
      },
      "source": [
        "Click through rate is approx. 17%, and approx. 83% is not clicked."
      ]
    },
    {
      "cell_type": "markdown",
      "metadata": {
        "id": "S4MovgHEs7gc"
      },
      "source": [
        "###  Feature engineering for date time features\n",
        "\n",
        "#### Hour\n",
        "\n",
        "Extract hour from date time feature."
      ]
    },
    {
      "cell_type": "code",
      "execution_count": null,
      "metadata": {
        "id": "uDG2Rl5ms7gd"
      },
      "outputs": [],
      "source": [
        "train['hour_of_day'] = train['date'].apply(lambda x: int(x[-2:]))"
      ]
    },
    {
      "cell_type": "code",
      "execution_count": null,
      "metadata": {
        "id": "5LAsxXyes7gd"
      },
      "outputs": [],
      "source": [
        "train.groupby('hour_of_day').agg({'click':'sum'}).plot(figsize=(12,6))\n",
        "plt.ylabel('Number of clicks')\n",
        "plt.title('click trends by hour of day');\n",
        "plt.show()"
      ]
    },
    {
      "cell_type": "code",
      "execution_count": null,
      "metadata": {
        "id": "i0q_sP_Fs7gd"
      },
      "outputs": [],
      "source": [
        "train.head(3)"
      ]
    },
    {
      "cell_type": "code",
      "execution_count": null,
      "metadata": {
        "id": "TVZ9_TmMs7ge"
      },
      "outputs": [],
      "source": [
        "train.groupby(['hour_of_day', 'click']).size().unstack().plot(kind='bar', title=\"Hour of Day\", figsize=(12,6))\n",
        "plt.ylabel('count')\n",
        "plt.title('Hourly impressions vs. clicks');\n",
        "plt.show()"
      ]
    },
    {
      "cell_type": "markdown",
      "metadata": {
        "id": "5q7WeQYbs7ge"
      },
      "source": [
        "There is nothing shocking here."
      ]
    },
    {
      "cell_type": "markdown",
      "metadata": {
        "id": "yLso4RsVs7ge"
      },
      "source": [
        "Now that we have click and impression. We can calculate Click-through rate (CTR). CTR is the ratio of ad clicks to impressions. It measures the rate of clicks on each ad."
      ]
    },
    {
      "cell_type": "markdown",
      "metadata": {
        "id": "lBgxXGVws7ge"
      },
      "source": [
        "#### Hourly CTR"
      ]
    },
    {
      "cell_type": "code",
      "execution_count": null,
      "metadata": {
        "id": "1jtYqrCRs7ge"
      },
      "outputs": [],
      "source": [
        "import seaborn as sns\n",
        "\n",
        "df_click = train[train['click'] == 1]\n",
        "df_hour = train[['hour_of_day','click']].groupby(['hour_of_day']).count().reset_index()\n",
        "df_hour = df_hour.rename(columns={'click': 'impressions'})\n",
        "df_hour['clicks'] = df_click[['hour_of_day','click']].groupby(['hour_of_day']).count().reset_index()['click']\n",
        "df_hour['CTR'] = df_hour['clicks']/df_hour['impressions']*100\n",
        "\n",
        "plt.figure(figsize=(12,6))\n",
        "sns.barplot(y='CTR', x='hour_of_day', data=df_hour)\n",
        "plt.title('Hourly CTR');\n",
        "plt.show()"
      ]
    },
    {
      "cell_type": "markdown",
      "metadata": {
        "id": "VYsQl2Abs7ge"
      },
      "source": [
        "### C1 feature\n",
        "\n",
        "C1 is one of the anonymized categorical features"
      ]
    },
    {
      "cell_type": "code",
      "execution_count": null,
      "metadata": {
        "id": "6cdmbxWzs7gf"
      },
      "outputs": [],
      "source": [
        "print(train.C1.value_counts()/len(train))"
      ]
    },
    {
      "cell_type": "markdown",
      "metadata": {
        "id": "Z228oP3Js7gf"
      },
      "source": [
        "C1 value = 1005 has the most data, almost 92%. And then we can calculate the CTR of each C1 value."
      ]
    },
    {
      "cell_type": "code",
      "execution_count": null,
      "metadata": {
        "id": "vAiXc5v2s7gf"
      },
      "outputs": [],
      "source": [
        "C1_values = train.C1.unique()\n",
        "C1_values.sort()\n",
        "ctr_avg_list=[]\n",
        "for i in C1_values:\n",
        "    ctr_avg=train.loc[np.where((train.C1 == i))].click.mean()\n",
        "    ctr_avg_list.append(ctr_avg)\n",
        "    print(\"{}: click through rate: {}\".format(i,ctr_avg))"
      ]
    },
    {
      "cell_type": "code",
      "execution_count": null,
      "metadata": {
        "id": "MQmxmCkBs7gf"
      },
      "outputs": [],
      "source": [
        "train.groupby(['C1', 'click']).size().unstack().plot(kind='bar', figsize=(12,6), title='C1 histogram');\n",
        "plt.show()"
      ]
    },
    {
      "cell_type": "code",
      "execution_count": null,
      "metadata": {
        "id": "k-hZACi5s7gf"
      },
      "outputs": [],
      "source": [
        "df_c1 = train[['C1','click']].groupby(['C1']).count().reset_index()\n",
        "df_c1 = df_c1.rename(columns={'click': 'impressions'})\n",
        "df_c1['clicks'] = df_click[['C1','click']].groupby(['C1']).count().reset_index()['click']\n",
        "df_c1['CTR'] = df_c1['clicks']/df_c1['impressions']*100\n",
        "\n",
        "plt.figure(figsize=(12,6))\n",
        "sns.barplot(y='CTR', x='C1', data=df_c1)\n",
        "plt.title('CTR by C1');\n",
        "plt.show()"
      ]
    },
    {
      "cell_type": "markdown",
      "metadata": {
        "id": "RUE0ofWOs7gg"
      },
      "source": [
        "The average CTR in the data is 0.17."
      ]
    },
    {
      "cell_type": "code",
      "execution_count": null,
      "metadata": {
        "id": "8amsVmA-s7gg"
      },
      "outputs": [],
      "source": [
        "train['click'].mean()"
      ]
    },
    {
      "cell_type": "code",
      "execution_count": null,
      "metadata": {
        "id": "qCmQhTCLs7gg"
      },
      "outputs": [],
      "source": [
        "df_c1.CTR.describe()"
      ]
    },
    {
      "cell_type": "markdown",
      "metadata": {
        "id": "gY_bXPbgs7gg"
      },
      "source": [
        "The important C1 values and CTR pairs are:\n",
        "\n",
        "1005: 92% of the data and 0.17 CTR\n",
        "\n",
        "1002: 5.5% of the data and 0.21 CTR\n",
        "\n",
        "1010: 2.3% of the data and 0.096 CTR\n",
        "\n",
        "1002 has a much higher than average CTR, and 1010 has a much lower than average CTR, it seems these two C1 values are important for predicting CTR."
      ]
    },
    {
      "cell_type": "markdown",
      "metadata": {
        "id": "f0V__hyas7gg"
      },
      "source": [
        "### Banner position\n",
        "\n"
      ]
    },
    {
      "cell_type": "code",
      "execution_count": null,
      "metadata": {
        "id": "g2E371_as7gh"
      },
      "outputs": [],
      "source": [
        "print(train.banner_pos.value_counts()/len(train))"
      ]
    },
    {
      "cell_type": "code",
      "execution_count": null,
      "metadata": {
        "id": "Zvbt-PZEs7gz"
      },
      "outputs": [],
      "source": [
        "banner_pos = train.banner_pos.unique()\n",
        "banner_pos.sort()\n",
        "ctr_avg_list=[]\n",
        "for i in banner_pos:\n",
        "    ctr_avg=train.loc[np.where((train.banner_pos == i))].click.mean()\n",
        "    ctr_avg_list.append(ctr_avg)\n",
        "    print(\"{}: click through rate: {}\".format(i,ctr_avg))"
      ]
    },
    {
      "cell_type": "markdown",
      "metadata": {
        "id": "eKQGYtk1s7gz"
      },
      "source": [
        "The important banner positions are:\n",
        "\n",
        "position 0: 72% of the data and 0.16 CTR\n",
        "\n",
        "position 1: 28% of the data and 0.18 CTR"
      ]
    },
    {
      "cell_type": "code",
      "execution_count": null,
      "metadata": {
        "id": "Prai8sN0s7gz"
      },
      "outputs": [],
      "source": [
        "train.groupby(['banner_pos', 'click']).size().unstack().plot(kind='bar', figsize=(12,6), title='banner position histogram');\n",
        "plt.show()"
      ]
    },
    {
      "cell_type": "code",
      "execution_count": null,
      "metadata": {
        "id": "GaT_9qqKs7gz"
      },
      "outputs": [],
      "source": [
        "df_banner = train[['banner_pos','click']].groupby(['banner_pos']).count().reset_index()\n",
        "df_banner = df_banner.rename(columns={'click': 'impressions'})\n",
        "df_banner['clicks'] = df_click[['banner_pos','click']].groupby(['banner_pos']).count().reset_index()['click']\n",
        "df_banner['CTR'] = df_banner['clicks']/df_banner['impressions']*100\n",
        "sort_banners = df_banner.sort_values(by='CTR',ascending=False)['banner_pos'].tolist()\n",
        "plt.figure(figsize=(12,6))\n",
        "sns.barplot(y='CTR', x='banner_pos', data=df_banner, order=sort_banners)\n",
        "plt.title('CTR by banner position');\n",
        "plt.show()"
      ]
    },
    {
      "cell_type": "code",
      "execution_count": null,
      "metadata": {
        "id": "Vrn-lSIRs7g0"
      },
      "outputs": [],
      "source": [
        "df_banner.CTR.describe()"
      ]
    },
    {
      "cell_type": "markdown",
      "metadata": {
        "id": "HF5ks1iXs7g0"
      },
      "source": [
        "### Site features\n",
        "\n",
        "#### site id"
      ]
    },
    {
      "cell_type": "code",
      "execution_count": null,
      "metadata": {
        "id": "1TLCX3v0s7g1"
      },
      "outputs": [],
      "source": [
        "print(\"There are {} sites in the data set\".format(train.site_id.nunique()))"
      ]
    },
    {
      "cell_type": "code",
      "execution_count": null,
      "metadata": {
        "id": "ArGCmNges7g1"
      },
      "outputs": [],
      "source": [
        "print('The top 10 site ids that have the most impressions')\n",
        "print((train.site_id.value_counts()/len(train))[0:10])"
      ]
    },
    {
      "cell_type": "code",
      "execution_count": null,
      "metadata": {
        "id": "d1KJy_EQs7g1"
      },
      "outputs": [],
      "source": [
        "top10_ids = (train.site_id.value_counts()/len(train))[0:10].index\n",
        "click_avg_list=[]\n",
        "\n",
        "for i in top10_ids:\n",
        "    click_avg=train.loc[np.where((train.site_id == i))].click.mean()\n",
        "    click_avg_list.append(click_avg)\n",
        "    print(\"for site id value: {},  click through rate: {}\".format(i,click_avg))"
      ]
    },
    {
      "cell_type": "code",
      "execution_count": null,
      "metadata": {
        "id": "7_XCfybWs7g2"
      },
      "outputs": [],
      "source": [
        "top10_sites = train[(train.site_id.isin((train.site_id.value_counts()/len(train))[0:10].index))]\n",
        "top10_sites_click = top10_sites[top10_sites['click'] == 1]\n",
        "top10_sites.groupby(['site_id', 'click']).size().unstack().plot(kind='bar', figsize=(12,6), title='Top 10 site ids histogram');\n",
        "plt.show()"
      ]
    },
    {
      "cell_type": "code",
      "execution_count": null,
      "metadata": {
        "id": "z_D73mQds7g2"
      },
      "outputs": [],
      "source": [
        "df_site = top10_sites[['site_id','click']].groupby(['site_id']).count().reset_index()\n",
        "df_site = df_site.rename(columns={'click': 'impressions'})\n",
        "df_site['clicks'] = top10_sites_click[['site_id','click']].groupby(['site_id']).count().reset_index()['click']\n",
        "df_site['CTR'] = df_site['clicks']/df_site['impressions']*100\n",
        "sort_site = df_site.sort_values(by='CTR',ascending=False)['site_id'].tolist()\n",
        "plt.figure(figsize=(12,6))\n",
        "sns.barplot(y='CTR', x='site_id', data=df_site, order=sort_site)\n",
        "plt.title('CTR by top 10 site id');\n",
        "plt.show()"
      ]
    },
    {
      "cell_type": "markdown",
      "metadata": {
        "id": "5yr9rmZos7g2"
      },
      "source": [
        "The CTR for the top 10 sites are significantly different from overall CTR 0.16."
      ]
    },
    {
      "cell_type": "markdown",
      "metadata": {
        "id": "-FfhKukhs7g3"
      },
      "source": [
        "#### site domain"
      ]
    },
    {
      "cell_type": "code",
      "execution_count": null,
      "metadata": {
        "id": "Qwly3UUEs7g3"
      },
      "outputs": [],
      "source": [
        "print(\"There are {} site domains in the data set\".format(train.site_domain.nunique()))"
      ]
    },
    {
      "cell_type": "code",
      "execution_count": null,
      "metadata": {
        "id": "F5zOdXFws7g3"
      },
      "outputs": [],
      "source": [
        "print('The top 10 site domains that have the most impressions')\n",
        "print((train.site_domain.value_counts()/len(train))[0:10])"
      ]
    },
    {
      "cell_type": "code",
      "execution_count": null,
      "metadata": {
        "id": "579qyR4qs7g4"
      },
      "outputs": [],
      "source": [
        "top10_domains = (train.site_domain.value_counts()/len(train))[0:10].index\n",
        "click_avg_list=[]\n",
        "\n",
        "for i in top10_domains:\n",
        "    click_avg=train.loc[np.where((train.site_domain == i))].click.mean()\n",
        "    click_avg_list.append(click_avg)\n",
        "    print(\"for site domain value: {},  click through rate: {}\".format(i,click_avg))"
      ]
    },
    {
      "cell_type": "code",
      "execution_count": null,
      "metadata": {
        "id": "eCvE0Kfms7g4"
      },
      "outputs": [],
      "source": [
        "top10_domain = train[(train.site_domain.isin((train.site_domain.value_counts()/len(train))[0:10].index))]\n",
        "top10_domain_click = top10_domain[top10_domain['click'] == 1]\n",
        "top10_domain.groupby(['site_domain', 'click']).size().unstack().plot(kind='bar', figsize=(12,6), title='Top 10 site domains histogram');\n",
        "plt.show()"
      ]
    },
    {
      "cell_type": "code",
      "execution_count": null,
      "metadata": {
        "id": "u8CErISys7g4"
      },
      "outputs": [],
      "source": [
        "df_domain = top10_domain[['site_domain','click']].groupby(['site_domain']).count().reset_index()\n",
        "df_domain = df_domain.rename(columns={'click': 'impressions'})\n",
        "df_domain['clicks'] = top10_domain_click[['site_domain','click']].groupby(['site_domain']).count().reset_index()['click']\n",
        "df_domain['CTR'] = df_domain['clicks']/df_domain['impressions']*100\n",
        "sort_domain = df_domain.sort_values(by='CTR',ascending=False)['site_domain'].tolist()\n",
        "plt.figure(figsize=(12,6))\n",
        "sns.barplot(y='CTR', x='site_domain', data=df_domain, order=sort_domain)\n",
        "plt.title('CTR by top 10 site domain');\n",
        "plt.show()"
      ]
    },
    {
      "cell_type": "markdown",
      "metadata": {
        "id": "RXzG-6AMs7g5"
      },
      "source": [
        "Similar with the site_id feature, the site_domain feature seems important as well."
      ]
    },
    {
      "cell_type": "markdown",
      "metadata": {
        "id": "Zmhfa1Yos7g5"
      },
      "source": [
        "#### site category"
      ]
    },
    {
      "cell_type": "code",
      "execution_count": null,
      "metadata": {
        "id": "u63a_1FXs7g5"
      },
      "outputs": [],
      "source": [
        "print(\"There are {} site categories in the data set\".format(train.site_category.nunique()))"
      ]
    },
    {
      "cell_type": "code",
      "execution_count": null,
      "metadata": {
        "id": "Pzg-N8jrs7g5"
      },
      "outputs": [],
      "source": [
        "print('The top 10 site categories that have the most impressions')\n",
        "print((train.site_category.value_counts()/len(train))[0:10])"
      ]
    },
    {
      "cell_type": "code",
      "execution_count": null,
      "metadata": {
        "id": "mAhsmD_rs7g6"
      },
      "outputs": [],
      "source": [
        "top10_categories = (train.site_category.value_counts()/len(train))[0:10].index\n",
        "click_avg_list=[]\n",
        "\n",
        "for i in top10_categories:\n",
        "    click_avg=train.loc[np.where((train.site_category == i))].click.mean()\n",
        "    click_avg_list.append(click_avg)\n",
        "    print(\"for site category value: {},  click through rate: {}\".format(i,click_avg))"
      ]
    },
    {
      "cell_type": "code",
      "execution_count": null,
      "metadata": {
        "id": "b1YkCEZ6s7g6"
      },
      "outputs": [],
      "source": [
        "top10_category = train[(train.site_category.isin((train.site_category.value_counts()/len(train))[0:10].index))]\n",
        "top10_category_click = top10_category[top10_category['click'] == 1]\n",
        "top10_category.groupby(['site_category', 'click']).size().unstack().plot(kind='bar', figsize=(12,6), title='Top 10 site categories histogram');\n",
        "plt.show()"
      ]
    },
    {
      "cell_type": "code",
      "execution_count": null,
      "metadata": {
        "id": "tXZQ-K2Ss7g7"
      },
      "outputs": [],
      "source": [
        "df_category = top10_category[['site_category','click']].groupby(['site_category']).count().reset_index()\n",
        "df_category = df_category.rename(columns={'click': 'impressions'})\n",
        "df_category['clicks'] = top10_category_click[['site_category','click']].groupby(['site_category']).count().reset_index()['click']\n",
        "df_category['CTR'] = df_category['clicks']/df_category['impressions']*100\n",
        "sort_category = df_category.sort_values(by='CTR',ascending=False)['site_category'].tolist()\n",
        "plt.figure(figsize=(12,6))\n",
        "sns.barplot(y='CTR', x='site_category', data=df_category, order=sort_category)\n",
        "plt.title('CTR by top 10 site category');\n",
        "plt.show()"
      ]
    },
    {
      "cell_type": "markdown",
      "metadata": {
        "id": "l_9UqkAws7g7"
      },
      "source": [
        "### Device features\n",
        "\n",
        "#### device id"
      ]
    },
    {
      "cell_type": "code",
      "execution_count": null,
      "metadata": {
        "id": "jZ_TEqAEs7g7"
      },
      "outputs": [],
      "source": [
        "print(\"There are {} devices in the data set\".format(train.device_id.nunique()))"
      ]
    },
    {
      "cell_type": "code",
      "execution_count": null,
      "metadata": {
        "id": "blk-2Ip8s7g7"
      },
      "outputs": [],
      "source": [
        "print('The top 10 devices that have the most impressions')\n",
        "print((train.device_id.value_counts()/len(train))[0:10])"
      ]
    },
    {
      "cell_type": "code",
      "execution_count": null,
      "metadata": {
        "id": "E0zGouTGs7g8"
      },
      "outputs": [],
      "source": [
        "top10_devices = (train.device_id.value_counts()/len(train))[0:10].index\n",
        "click_avg_list=[]\n",
        "\n",
        "for i in top10_devices:\n",
        "    click_avg=train.loc[np.where((train.device_id == i))].click.mean()\n",
        "    click_avg_list.append(click_avg)\n",
        "    print(\"for device id value: {},  click through rate: {}\".format(i,click_avg))"
      ]
    },
    {
      "cell_type": "code",
      "execution_count": null,
      "metadata": {
        "id": "Ka17VlLjs7g8"
      },
      "outputs": [],
      "source": [
        "top10_device = train[(train.device_id.isin((train.device_id.value_counts()/len(train))[0:10].index))]\n",
        "top10_device_click = top10_device[top10_device['click'] == 1]\n",
        "top10_device.groupby(['device_id', 'click']).size().unstack().plot(kind='bar', figsize=(12,6), title='Top 10 device ids histogram');\n",
        "plt.show()"
      ]
    },
    {
      "cell_type": "markdown",
      "metadata": {
        "id": "MTWMc8Kws7g8"
      },
      "source": [
        "#### device ip\n",
        "\n",
        "Device ip is more of a users ip address, so, there are a lot of them."
      ]
    },
    {
      "cell_type": "code",
      "execution_count": null,
      "metadata": {
        "id": "6I01P23ps7g9"
      },
      "outputs": [],
      "source": [
        "print(\"There are {} device ips in the data set\".format(train.device_ip.nunique()))\n",
        "print(\"There are {} device types in the data set\".format(train.device_type.nunique()))\n",
        "print(\"There are {} device models in the data set\".format(train.device_model.nunique()))\n",
        "print(\"There are {} device cnn types in the data set\".format(train.device_conn_type.nunique()))"
      ]
    },
    {
      "cell_type": "markdown",
      "metadata": {
        "id": "3i6B68aQs7g9"
      },
      "source": [
        "#### device type"
      ]
    },
    {
      "cell_type": "code",
      "execution_count": null,
      "metadata": {
        "id": "IpUjEBTss7g9"
      },
      "outputs": [],
      "source": [
        "print('The impressions by device types')\n",
        "print((train.device_type.value_counts()/len(train)))"
      ]
    },
    {
      "cell_type": "code",
      "execution_count": null,
      "metadata": {
        "id": "aVt3dAMLs7g-"
      },
      "outputs": [],
      "source": [
        "train[['device_type','click']].groupby(['device_type','click']).size().unstack().plot(kind='bar', title='device types');\n",
        "plt.show()"
      ]
    },
    {
      "cell_type": "markdown",
      "metadata": {
        "id": "wZp7xIyCs7g-"
      },
      "source": [
        "Device type 1 gets the most impressions and clicks. And the other device types only get the minimum impressions and clicks. We may want to look in more details about device type 1."
      ]
    },
    {
      "cell_type": "code",
      "execution_count": null,
      "metadata": {
        "scrolled": false,
        "id": "QNlCUqA8s7g-"
      },
      "outputs": [],
      "source": [
        "df_click[df_click['device_type']==1].groupby(['hour_of_day', 'click']).size().unstack().plot(kind='bar', title=\"Clicks from device type 1 by hour of day\", figsize=(12,6));\n",
        "plt.show()"
      ]
    },
    {
      "cell_type": "markdown",
      "metadata": {
        "id": "bo5C6K9Js7g-"
      },
      "source": [
        "As expected, most clicks happened during the business hours from device type 1. device type is definitely an important feature."
      ]
    },
    {
      "cell_type": "code",
      "execution_count": null,
      "metadata": {
        "id": "c00wdUBEs7g_"
      },
      "outputs": [],
      "source": [
        "device_type_click = df_click.groupby('device_type').agg({'click':'sum'}).reset_index()\n",
        "device_type_impression = train.groupby('device_type').agg({'click':'count'}).reset_index().rename(columns={'click': 'impressions'})\n",
        "merged_device_type = pd.merge(left = device_type_click , right = device_type_impression, how = 'inner', on = 'device_type')"
      ]
    },
    {
      "cell_type": "code",
      "execution_count": null,
      "metadata": {
        "id": "-Wce481Js7g_"
      },
      "outputs": [],
      "source": [
        "merged_device_type['CTR'] = merged_device_type['click'] / merged_device_type['impressions']*100"
      ]
    },
    {
      "cell_type": "code",
      "execution_count": null,
      "metadata": {
        "id": "4IZguvrms7g_"
      },
      "outputs": [],
      "source": [
        "merged_device_type"
      ]
    },
    {
      "cell_type": "markdown",
      "metadata": {
        "id": "Po3vkLfUs7g_"
      },
      "source": [
        "The highest CTR comes from device type 0."
      ]
    },
    {
      "cell_type": "markdown",
      "metadata": {
        "id": "xkU-3HAJs7hA"
      },
      "source": [
        "#### app features"
      ]
    },
    {
      "cell_type": "code",
      "execution_count": null,
      "metadata": {
        "id": "bXOrNzIIs7hA"
      },
      "outputs": [],
      "source": [
        "print(\"There are {} apps in the data set\".format(train.app_id.nunique()))\n",
        "print(\"There are {} app domains in the data set\".format(train.app_domain.nunique()))\n",
        "print(\"There are {} app categories in the data set\".format(train.app_category.nunique()))"
      ]
    },
    {
      "cell_type": "markdown",
      "metadata": {
        "id": "YO7sMuHWs7hB"
      },
      "source": [
        "Looks like app category something worth to explore."
      ]
    },
    {
      "cell_type": "code",
      "execution_count": null,
      "metadata": {
        "id": "AsglTzWas7hB"
      },
      "outputs": [],
      "source": [
        "print('The impressions by app categories')\n",
        "print((train.app_category.value_counts()/len(train)))"
      ]
    },
    {
      "cell_type": "code",
      "execution_count": null,
      "metadata": {
        "id": "btXPc7gds7hB"
      },
      "outputs": [],
      "source": [
        "train['app_category'].value_counts().plot(kind='bar', title='App Category v/s Clicks')"
      ]
    },
    {
      "cell_type": "code",
      "execution_count": null,
      "metadata": {
        "id": "r_pfa2QEs7hB"
      },
      "outputs": [],
      "source": [
        "train_app_category = train.groupby(['app_category', 'click']).size().unstack()\n",
        "train_app_category.div(train_app_category.sum(axis=1), axis=0).plot(kind='bar', stacked=True, title=\"Intra-category CTR\");\n",
        "plt.show()"
      ]
    },
    {
      "cell_type": "markdown",
      "metadata": {
        "id": "JDj-LJ5es7hC"
      },
      "source": [
        "#### C14 - C21 features"
      ]
    },
    {
      "cell_type": "code",
      "execution_count": null,
      "metadata": {
        "id": "Drb3nWo8s7hC"
      },
      "outputs": [],
      "source": [
        "print(\"There are {} C14 in the data set\".format(train.C14.nunique()))\n",
        "print(\"There are {} C15 in the data set\".format(train.C15.nunique()))\n",
        "print(\"There are {} C16 in the data set\".format(train.C16.nunique()))\n",
        "print(\"There are {} C17 in the data set\".format(train.C17.nunique()))\n",
        "print(\"There are {} C18 in the data set\".format(train.C18.nunique()))\n",
        "print(\"There are {} C19 in the data set\".format(train.C19.nunique()))\n",
        "print(\"There are {} C20 in the data set\".format(train.C20.nunique()))"
      ]
    },
    {
      "cell_type": "code",
      "execution_count": null,
      "metadata": {
        "id": "y9LAYs-3s7hC"
      },
      "outputs": [],
      "source": [
        "train.groupby(['C15', 'click']).size().unstack().plot(kind='bar', stacked=True, title='C15 distribution');"
      ]
    },
    {
      "cell_type": "code",
      "execution_count": null,
      "metadata": {
        "id": "1IyO9JOos7hD"
      },
      "outputs": [],
      "source": [
        "train.groupby(['C16', 'click']).size().unstack().plot(kind='bar', stacked=True, title='C16 distribution');"
      ]
    },
    {
      "cell_type": "code",
      "execution_count": null,
      "metadata": {
        "id": "h5PzR7xJs7hD"
      },
      "outputs": [],
      "source": [
        "train.groupby(['C18', 'click']).size().unstack().plot(kind='bar', stacked=True, title='C18 distribution');"
      ]
    },
    {
      "cell_type": "code",
      "execution_count": null,
      "metadata": {
        "id": "0qaXCEQrs7hD"
      },
      "outputs": [],
      "source": [
        "train.head(3)"
      ]
    },
    {
      "cell_type": "code",
      "execution_count": null,
      "metadata": {
        "id": "dHr3ILGRs7hD"
      },
      "outputs": [],
      "source": [
        "def convert_obj_to_int(self):\n",
        "\n",
        "    object_list_columns = self.columns\n",
        "    object_list_dtypes = self.dtypes\n",
        "    new_col_suffix = '_int'\n",
        "    for index in range(0,len(object_list_columns)):\n",
        "        if object_list_dtypes[index] == object :\n",
        "            self[object_list_columns[index]+new_col_suffix] = self[object_list_columns[index]].map( lambda  x: hash(x))\n",
        "            self.drop([object_list_columns[index]],inplace=True,axis=1)\n",
        "    return self\n",
        "train = convert_obj_to_int(train)"
      ]
    },
    {
      "cell_type": "code",
      "execution_count": null,
      "metadata": {
        "scrolled": true,
        "id": "SqKOW8Dps7hE",
        "outputId": "00c22451-df21-496a-adce-57169ce3b5c9"
      },
      "outputs": [
        {
          "data": {
            "text/html": [
              "<div>\n",
              "<style scoped>\n",
              "    .dataframe tbody tr th:only-of-type {\n",
              "        vertical-align: middle;\n",
              "    }\n",
              "\n",
              "    .dataframe tbody tr th {\n",
              "        vertical-align: top;\n",
              "    }\n",
              "\n",
              "    .dataframe thead th {\n",
              "        text-align: right;\n",
              "    }\n",
              "</style>\n",
              "<table border=\"1\" class=\"dataframe\">\n",
              "  <thead>\n",
              "    <tr style=\"text-align: right;\">\n",
              "      <th></th>\n",
              "      <th>id</th>\n",
              "      <th>click</th>\n",
              "      <th>C1</th>\n",
              "      <th>banner_pos</th>\n",
              "      <th>device_type</th>\n",
              "      <th>device_conn_type</th>\n",
              "      <th>C14</th>\n",
              "      <th>C15</th>\n",
              "      <th>C16</th>\n",
              "      <th>C17</th>\n",
              "      <th>C18</th>\n",
              "      <th>C19</th>\n",
              "      <th>C20</th>\n",
              "      <th>C21</th>\n",
              "      <th>date_int</th>\n",
              "      <th>site_id_int</th>\n",
              "      <th>site_domain_int</th>\n",
              "      <th>site_category_int</th>\n",
              "      <th>app_id_int</th>\n",
              "      <th>app_domain_int</th>\n",
              "      <th>app_category_int</th>\n",
              "      <th>device_id_int</th>\n",
              "      <th>device_ip_int</th>\n",
              "      <th>device_model_int</th>\n",
              "    </tr>\n",
              "  </thead>\n",
              "  <tbody>\n",
              "    <tr>\n",
              "      <th>0</th>\n",
              "      <td>1.000009e+18</td>\n",
              "      <td>0</td>\n",
              "      <td>1005</td>\n",
              "      <td>0</td>\n",
              "      <td>1</td>\n",
              "      <td>2</td>\n",
              "      <td>15706</td>\n",
              "      <td>320</td>\n",
              "      <td>50</td>\n",
              "      <td>1722</td>\n",
              "      <td>0</td>\n",
              "      <td>35</td>\n",
              "      <td>-1</td>\n",
              "      <td>79</td>\n",
              "      <td>-4894633712509586256</td>\n",
              "      <td>563252818748676209</td>\n",
              "      <td>2678970633790439129</td>\n",
              "      <td>936290421697444965</td>\n",
              "      <td>-4829673787941248262</td>\n",
              "      <td>-613020616740582092</td>\n",
              "      <td>-1508161623420999242</td>\n",
              "      <td>-6325914545430670019</td>\n",
              "      <td>-2421482248107373158</td>\n",
              "      <td>-5542378729067133763</td>\n",
              "    </tr>\n",
              "    <tr>\n",
              "      <th>1</th>\n",
              "      <td>1.000017e+19</td>\n",
              "      <td>0</td>\n",
              "      <td>1005</td>\n",
              "      <td>0</td>\n",
              "      <td>1</td>\n",
              "      <td>0</td>\n",
              "      <td>15704</td>\n",
              "      <td>320</td>\n",
              "      <td>50</td>\n",
              "      <td>1722</td>\n",
              "      <td>0</td>\n",
              "      <td>35</td>\n",
              "      <td>100084</td>\n",
              "      <td>79</td>\n",
              "      <td>-4894633712509586256</td>\n",
              "      <td>563252818748676209</td>\n",
              "      <td>2678970633790439129</td>\n",
              "      <td>936290421697444965</td>\n",
              "      <td>-4829673787941248262</td>\n",
              "      <td>-613020616740582092</td>\n",
              "      <td>-1508161623420999242</td>\n",
              "      <td>-6325914545430670019</td>\n",
              "      <td>1043140342598562817</td>\n",
              "      <td>5437923702529426165</td>\n",
              "    </tr>\n",
              "    <tr>\n",
              "      <th>2</th>\n",
              "      <td>1.000037e+19</td>\n",
              "      <td>0</td>\n",
              "      <td>1005</td>\n",
              "      <td>0</td>\n",
              "      <td>1</td>\n",
              "      <td>0</td>\n",
              "      <td>15704</td>\n",
              "      <td>320</td>\n",
              "      <td>50</td>\n",
              "      <td>1722</td>\n",
              "      <td>0</td>\n",
              "      <td>35</td>\n",
              "      <td>100084</td>\n",
              "      <td>79</td>\n",
              "      <td>-4894633712509586256</td>\n",
              "      <td>563252818748676209</td>\n",
              "      <td>2678970633790439129</td>\n",
              "      <td>936290421697444965</td>\n",
              "      <td>-4829673787941248262</td>\n",
              "      <td>-613020616740582092</td>\n",
              "      <td>-1508161623420999242</td>\n",
              "      <td>-6325914545430670019</td>\n",
              "      <td>8614466526076247504</td>\n",
              "      <td>-4276541463420655263</td>\n",
              "    </tr>\n",
              "  </tbody>\n",
              "</table>\n",
              "</div>"
            ],
            "text/plain": [
              "             id  click    C1  banner_pos  device_type  device_conn_type  \\\n",
              "0  1.000009e+18      0  1005           0            1                 2   \n",
              "1  1.000017e+19      0  1005           0            1                 0   \n",
              "2  1.000037e+19      0  1005           0            1                 0   \n",
              "\n",
              "     C14  C15  C16   C17  C18  C19     C20  C21             date_int  \\\n",
              "0  15706  320   50  1722    0   35      -1   79 -4894633712509586256   \n",
              "1  15704  320   50  1722    0   35  100084   79 -4894633712509586256   \n",
              "2  15704  320   50  1722    0   35  100084   79 -4894633712509586256   \n",
              "\n",
              "          site_id_int      site_domain_int   site_category_int  \\\n",
              "0  563252818748676209  2678970633790439129  936290421697444965   \n",
              "1  563252818748676209  2678970633790439129  936290421697444965   \n",
              "2  563252818748676209  2678970633790439129  936290421697444965   \n",
              "\n",
              "            app_id_int      app_domain_int     app_category_int  \\\n",
              "0 -4829673787941248262 -613020616740582092 -1508161623420999242   \n",
              "1 -4829673787941248262 -613020616740582092 -1508161623420999242   \n",
              "2 -4829673787941248262 -613020616740582092 -1508161623420999242   \n",
              "\n",
              "         device_id_int        device_ip_int     device_model_int  \n",
              "0 -6325914545430670019 -2421482248107373158 -5542378729067133763  \n",
              "1 -6325914545430670019  1043140342598562817  5437923702529426165  \n",
              "2 -6325914545430670019  8614466526076247504 -4276541463420655263  "
            ]
          },
          "execution_count": 6,
          "metadata": {},
          "output_type": "execute_result"
        }
      ],
      "source": [
        "train.head(3)"
      ]
    },
    {
      "cell_type": "code",
      "execution_count": null,
      "metadata": {
        "id": "Qq5686CPs7hE"
      },
      "outputs": [],
      "source": [
        "train.drop('id', axis=1, inplace=True)"
      ]
    },
    {
      "cell_type": "code",
      "execution_count": null,
      "metadata": {
        "id": "B6oPbqOYs7hF"
      },
      "outputs": [],
      "source": [
        "train.drop('date_int', axis=1, inplace=True)"
      ]
    },
    {
      "cell_type": "code",
      "execution_count": null,
      "metadata": {
        "scrolled": true,
        "id": "9FYp9pCws7hF",
        "outputId": "3f7a54a5-e799-41bd-b38f-c8c568adb1a1"
      },
      "outputs": [
        {
          "data": {
            "text/html": [
              "<div>\n",
              "<style scoped>\n",
              "    .dataframe tbody tr th:only-of-type {\n",
              "        vertical-align: middle;\n",
              "    }\n",
              "\n",
              "    .dataframe tbody tr th {\n",
              "        vertical-align: top;\n",
              "    }\n",
              "\n",
              "    .dataframe thead th {\n",
              "        text-align: right;\n",
              "    }\n",
              "</style>\n",
              "<table border=\"1\" class=\"dataframe\">\n",
              "  <thead>\n",
              "    <tr style=\"text-align: right;\">\n",
              "      <th></th>\n",
              "      <th>click</th>\n",
              "      <th>C1</th>\n",
              "      <th>banner_pos</th>\n",
              "      <th>device_type</th>\n",
              "      <th>device_conn_type</th>\n",
              "      <th>C14</th>\n",
              "      <th>C15</th>\n",
              "      <th>C16</th>\n",
              "      <th>C17</th>\n",
              "      <th>C18</th>\n",
              "      <th>C19</th>\n",
              "      <th>C20</th>\n",
              "      <th>C21</th>\n",
              "      <th>site_id_int</th>\n",
              "      <th>site_domain_int</th>\n",
              "      <th>site_category_int</th>\n",
              "      <th>app_id_int</th>\n",
              "      <th>app_domain_int</th>\n",
              "      <th>app_category_int</th>\n",
              "      <th>device_id_int</th>\n",
              "      <th>device_ip_int</th>\n",
              "      <th>device_model_int</th>\n",
              "    </tr>\n",
              "  </thead>\n",
              "  <tbody>\n",
              "    <tr>\n",
              "      <th>0</th>\n",
              "      <td>0</td>\n",
              "      <td>1005</td>\n",
              "      <td>0</td>\n",
              "      <td>1</td>\n",
              "      <td>2</td>\n",
              "      <td>15706</td>\n",
              "      <td>320</td>\n",
              "      <td>50</td>\n",
              "      <td>1722</td>\n",
              "      <td>0</td>\n",
              "      <td>35</td>\n",
              "      <td>-1</td>\n",
              "      <td>79</td>\n",
              "      <td>563252818748676209</td>\n",
              "      <td>2678970633790439129</td>\n",
              "      <td>936290421697444965</td>\n",
              "      <td>-4829673787941248262</td>\n",
              "      <td>-613020616740582092</td>\n",
              "      <td>-1508161623420999242</td>\n",
              "      <td>-6325914545430670019</td>\n",
              "      <td>-2421482248107373158</td>\n",
              "      <td>-5542378729067133763</td>\n",
              "    </tr>\n",
              "    <tr>\n",
              "      <th>1</th>\n",
              "      <td>0</td>\n",
              "      <td>1005</td>\n",
              "      <td>0</td>\n",
              "      <td>1</td>\n",
              "      <td>0</td>\n",
              "      <td>15704</td>\n",
              "      <td>320</td>\n",
              "      <td>50</td>\n",
              "      <td>1722</td>\n",
              "      <td>0</td>\n",
              "      <td>35</td>\n",
              "      <td>100084</td>\n",
              "      <td>79</td>\n",
              "      <td>563252818748676209</td>\n",
              "      <td>2678970633790439129</td>\n",
              "      <td>936290421697444965</td>\n",
              "      <td>-4829673787941248262</td>\n",
              "      <td>-613020616740582092</td>\n",
              "      <td>-1508161623420999242</td>\n",
              "      <td>-6325914545430670019</td>\n",
              "      <td>1043140342598562817</td>\n",
              "      <td>5437923702529426165</td>\n",
              "    </tr>\n",
              "    <tr>\n",
              "      <th>2</th>\n",
              "      <td>0</td>\n",
              "      <td>1005</td>\n",
              "      <td>0</td>\n",
              "      <td>1</td>\n",
              "      <td>0</td>\n",
              "      <td>15704</td>\n",
              "      <td>320</td>\n",
              "      <td>50</td>\n",
              "      <td>1722</td>\n",
              "      <td>0</td>\n",
              "      <td>35</td>\n",
              "      <td>100084</td>\n",
              "      <td>79</td>\n",
              "      <td>563252818748676209</td>\n",
              "      <td>2678970633790439129</td>\n",
              "      <td>936290421697444965</td>\n",
              "      <td>-4829673787941248262</td>\n",
              "      <td>-613020616740582092</td>\n",
              "      <td>-1508161623420999242</td>\n",
              "      <td>-6325914545430670019</td>\n",
              "      <td>8614466526076247504</td>\n",
              "      <td>-4276541463420655263</td>\n",
              "    </tr>\n",
              "    <tr>\n",
              "      <th>3</th>\n",
              "      <td>0</td>\n",
              "      <td>1005</td>\n",
              "      <td>0</td>\n",
              "      <td>1</td>\n",
              "      <td>0</td>\n",
              "      <td>15706</td>\n",
              "      <td>320</td>\n",
              "      <td>50</td>\n",
              "      <td>1722</td>\n",
              "      <td>0</td>\n",
              "      <td>35</td>\n",
              "      <td>100084</td>\n",
              "      <td>79</td>\n",
              "      <td>563252818748676209</td>\n",
              "      <td>2678970633790439129</td>\n",
              "      <td>936290421697444965</td>\n",
              "      <td>-4829673787941248262</td>\n",
              "      <td>-613020616740582092</td>\n",
              "      <td>-1508161623420999242</td>\n",
              "      <td>-6325914545430670019</td>\n",
              "      <td>-8711247937882937440</td>\n",
              "      <td>-101930351471260202</td>\n",
              "    </tr>\n",
              "    <tr>\n",
              "      <th>4</th>\n",
              "      <td>0</td>\n",
              "      <td>1005</td>\n",
              "      <td>1</td>\n",
              "      <td>1</td>\n",
              "      <td>0</td>\n",
              "      <td>18993</td>\n",
              "      <td>320</td>\n",
              "      <td>50</td>\n",
              "      <td>2161</td>\n",
              "      <td>0</td>\n",
              "      <td>35</td>\n",
              "      <td>-1</td>\n",
              "      <td>157</td>\n",
              "      <td>-8722046770264499790</td>\n",
              "      <td>-8594600896970571619</td>\n",
              "      <td>6796581121582936263</td>\n",
              "      <td>-4829673787941248262</td>\n",
              "      <td>-613020616740582092</td>\n",
              "      <td>-1508161623420999242</td>\n",
              "      <td>-6325914545430670019</td>\n",
              "      <td>-8942623890986269100</td>\n",
              "      <td>-2891236374950521443</td>\n",
              "    </tr>\n",
              "  </tbody>\n",
              "</table>\n",
              "</div>"
            ],
            "text/plain": [
              "   click    C1  banner_pos  device_type  device_conn_type    C14  C15  C16  \\\n",
              "0      0  1005           0            1                 2  15706  320   50   \n",
              "1      0  1005           0            1                 0  15704  320   50   \n",
              "2      0  1005           0            1                 0  15704  320   50   \n",
              "3      0  1005           0            1                 0  15706  320   50   \n",
              "4      0  1005           1            1                 0  18993  320   50   \n",
              "\n",
              "    C17  C18  C19     C20  C21          site_id_int      site_domain_int  \\\n",
              "0  1722    0   35      -1   79   563252818748676209  2678970633790439129   \n",
              "1  1722    0   35  100084   79   563252818748676209  2678970633790439129   \n",
              "2  1722    0   35  100084   79   563252818748676209  2678970633790439129   \n",
              "3  1722    0   35  100084   79   563252818748676209  2678970633790439129   \n",
              "4  2161    0   35      -1  157 -8722046770264499790 -8594600896970571619   \n",
              "\n",
              "     site_category_int           app_id_int      app_domain_int  \\\n",
              "0   936290421697444965 -4829673787941248262 -613020616740582092   \n",
              "1   936290421697444965 -4829673787941248262 -613020616740582092   \n",
              "2   936290421697444965 -4829673787941248262 -613020616740582092   \n",
              "3   936290421697444965 -4829673787941248262 -613020616740582092   \n",
              "4  6796581121582936263 -4829673787941248262 -613020616740582092   \n",
              "\n",
              "      app_category_int        device_id_int        device_ip_int  \\\n",
              "0 -1508161623420999242 -6325914545430670019 -2421482248107373158   \n",
              "1 -1508161623420999242 -6325914545430670019  1043140342598562817   \n",
              "2 -1508161623420999242 -6325914545430670019  8614466526076247504   \n",
              "3 -1508161623420999242 -6325914545430670019 -8711247937882937440   \n",
              "4 -1508161623420999242 -6325914545430670019 -8942623890986269100   \n",
              "\n",
              "      device_model_int  \n",
              "0 -5542378729067133763  \n",
              "1  5437923702529426165  \n",
              "2 -4276541463420655263  \n",
              "3  -101930351471260202  \n",
              "4 -2891236374950521443  "
            ]
          },
          "execution_count": 9,
          "metadata": {},
          "output_type": "execute_result"
        }
      ],
      "source": [
        "train.head()"
      ]
    },
    {
      "cell_type": "markdown",
      "metadata": {
        "id": "ZLvZRe2hs7hF"
      },
      "source": [
        "# ML"
      ]
    },
    {
      "cell_type": "markdown",
      "metadata": {
        "id": "C5qsBYt6s7hG"
      },
      "source": [
        "## Logistic Regression"
      ]
    },
    {
      "cell_type": "code",
      "execution_count": null,
      "metadata": {
        "id": "5DnX2EkUs7hG"
      },
      "outputs": [],
      "source": [
        "from sklearn import preprocessing\n",
        "from sklearn.linear_model import LogisticRegression\n",
        "from sklearn.model_selection import train_test_split\n",
        "from sklearn.metrics import confusion_matrix\n",
        "from sklearn.metrics import classification_report"
      ]
    },
    {
      "cell_type": "code",
      "execution_count": null,
      "metadata": {
        "id": "JgJ2D2ais7hG"
      },
      "outputs": [],
      "source": [
        "x_train, x_test, y_train, y_test = train_test_split(train, train['click'], test_size=0.1, random_state=101)"
      ]
    },
    {
      "cell_type": "code",
      "execution_count": null,
      "metadata": {
        "id": "VziGUX4ms7hG"
      },
      "outputs": [],
      "source": [
        "logmodel = LogisticRegression()\n",
        "logmodel.fit(x_train, y_train)"
      ]
    },
    {
      "cell_type": "code",
      "execution_count": null,
      "metadata": {
        "id": "IUdzS_Q-s7hH"
      },
      "outputs": [],
      "source": [
        "Predictions = logmodel.predict(x_test)"
      ]
    },
    {
      "cell_type": "code",
      "execution_count": null,
      "metadata": {
        "id": "fLJqDwnSs7hH"
      },
      "outputs": [],
      "source": [
        "print(confusion_matrix(y_test, Predictions))"
      ]
    },
    {
      "cell_type": "markdown",
      "metadata": {
        "id": "SKP0ppsfs7hI"
      },
      "source": [
        "- True positive: 331547(We predicted a positive result and it was positive)\n",
        "- True negative: 1292(We predicted a negative result and it was negative)\n",
        "- False positive: 9008(We predicted a positive result and it was negative)\n",
        "- False negative: 70453(We predicted a negative result and it was positive)"
      ]
    },
    {
      "cell_type": "markdown",
      "metadata": {
        "id": "ci2KeR4-s7hI"
      },
      "source": [
        "- Accuracy = (TP+TN)/total\n",
        "- Accuracy = (331547+1292)/112300 ~ 80.7%"
      ]
    },
    {
      "cell_type": "markdown",
      "metadata": {
        "id": "oheU1oNZs7hI"
      },
      "source": [
        "## Degree-2 Polynomial Mappings (Poly2)"
      ]
    },
    {
      "cell_type": "code",
      "execution_count": null,
      "metadata": {
        "id": "QJQjA7W0s7hJ"
      },
      "outputs": [],
      "source": [
        "from sklearn.preprocessing import PolynomialFeatures"
      ]
    },
    {
      "cell_type": "code",
      "execution_count": null,
      "metadata": {
        "id": "OldK38vJs7hJ"
      },
      "outputs": [],
      "source": [
        "poly = PolynomialFeatures(degree = 2)\n",
        "x_train_poly = poly.fit_transform(x_train)\n",
        "poly_model = LogisticRegression()\n",
        "poly_model.fit(x_train_poly, y_train)"
      ]
    },
    {
      "cell_type": "code",
      "execution_count": null,
      "metadata": {
        "id": "nCECQ-5cs7hJ"
      },
      "outputs": [],
      "source": [
        "Predictions_2 = poly_model.predict(x_test)"
      ]
    },
    {
      "cell_type": "code",
      "execution_count": null,
      "metadata": {
        "id": "lwL5PdnIs7hK"
      },
      "outputs": [],
      "source": [
        "print(classification_report(y_test,Predictions_2))"
      ]
    },
    {
      "cell_type": "code",
      "execution_count": null,
      "metadata": {
        "id": "5OTk4PWbs7hK"
      },
      "outputs": [],
      "source": [
        "print(confusion_matrix(y_test, Predictions_2))"
      ]
    },
    {
      "cell_type": "markdown",
      "metadata": {
        "collapsed": true,
        "id": "qY7B8XGis7hK"
      },
      "source": [
        "# Convert Data From csv to libffm"
      ]
    },
    {
      "cell_type": "code",
      "execution_count": null,
      "metadata": {
        "id": "efGIpKozs7hL"
      },
      "outputs": [],
      "source": [
        "class FFMFormatPandas:\n",
        "    def __init__(self):\n",
        "        self.field_index_ = None\n",
        "        self.feature_index_ = None\n",
        "        self.y = None\n",
        "\n",
        "    def fit(self, df, y=None):\n",
        "        self.y = y\n",
        "        df_ffm = df[df.columns.difference([self.y])]\n",
        "        if self.field_index_ is None:\n",
        "            self.field_index_ = {col: i for i, col in enumerate(df_ffm)}\n",
        "\n",
        "        if self.feature_index_ is not None:\n",
        "            last_idx = max(list(self.feature_index_.values()))\n",
        "\n",
        "        if self.feature_index_ is None:\n",
        "            self.feature_index_ = dict()\n",
        "            last_idx = 0\n",
        "\n",
        "        for col in df.columns:\n",
        "            vals = df[col].unique()\n",
        "            for val in vals:\n",
        "                if pd.isnull(val):\n",
        "                    continue\n",
        "                name = '{}_{}'.format(col, val)\n",
        "                if name not in self.feature_index_:\n",
        "                    self.feature_index_[name] = last_idx\n",
        "                    last_idx += 1\n",
        "            self.feature_index_[col] = last_idx\n",
        "            last_idx += 1\n",
        "        return self\n",
        "\n",
        "    def fit_transform(self, df, y=None):\n",
        "        self.fit(df, y)\n",
        "        return self.transform(df)\n",
        "\n",
        "    def transform_row_(self, row, t):\n",
        "        ffm = []\n",
        "        if self.y != None:\n",
        "            ffm.append(str(row.loc[row.index == self.y][0]))\n",
        "        if self.y is None:\n",
        "            ffm.append(str(0))\n",
        "\n",
        "        for col, val in row.loc[row.index != self.y].to_dict().items():\n",
        "            col_type = t[col]\n",
        "            name = '{}_{}'.format(col, val)\n",
        "            if col_type.kind ==  'O':\n",
        "                ffm.append('{}:{}:1'.format(self.field_index_[col], self.feature_index_[name]))\n",
        "            elif col_type.kind == 'i':\n",
        "                ffm.append('{}:{}:{}'.format(self.field_index_[col], self.feature_index_[col], val))\n",
        "        return ' '.join(ffm)\n",
        "\n",
        "    def transform(self, df):\n",
        "        t = df.dtypes.to_dict()\n",
        "        return pd.Series({idx: self.transform_row_(row, t) for idx, row in df.iterrows()})"
      ]
    },
    {
      "cell_type": "code",
      "execution_count": null,
      "metadata": {
        "id": "dHGcSTevs7hL"
      },
      "outputs": [],
      "source": [
        "ffm_train = FFMFormatPandas()\n",
        "ffm_train_data = ffm_train.fit_transform(train, y='click')"
      ]
    },
    {
      "cell_type": "code",
      "execution_count": null,
      "metadata": {
        "id": "KnTtCVofs7hL"
      },
      "outputs": [],
      "source": [
        "X_train, X_test = train_test_split(ffm_train_data, test_size = 0.1, random_state = 5)"
      ]
    },
    {
      "cell_type": "code",
      "execution_count": null,
      "metadata": {
        "id": "PgrkStdjs7hM"
      },
      "outputs": [],
      "source": [
        "X_train.to_csv('x_train.txt', header=None, index=None, sep=' ', mode='a')\n",
        "X_test.to_csv('x_test.txt', header=None, index=None, sep=' ', mode='a')"
      ]
    },
    {
      "cell_type": "markdown",
      "metadata": {
        "id": "e1j6iqezs7hM"
      },
      "source": [
        "# FM"
      ]
    },
    {
      "cell_type": "code",
      "execution_count": null,
      "metadata": {
        "id": "ZbNozZwOs7hR"
      },
      "outputs": [],
      "source": [
        "fm_model = xl.create_fm()\n",
        "fm_model.setTrain('x_train.txt')\n",
        "fm_model.setValidate('x_test.txt')\n",
        "param = {'task':'binary', 'lr':0.2, 'lambda':0.002}\n",
        "fm_model.fit(param, \"./model.out\")"
      ]
    },
    {
      "cell_type": "code",
      "execution_count": null,
      "metadata": {
        "id": "A7I9yo_Ds7hS"
      },
      "outputs": [],
      "source": [
        "fm_model.cv(param)"
      ]
    },
    {
      "cell_type": "code",
      "execution_count": null,
      "metadata": {
        "id": "OnH6Dzi9s7hS"
      },
      "outputs": [],
      "source": [
        "fm_model.setTest(\"x_test.txt\")\n",
        "fm_model.setSigmoid()\n",
        "fm_model.predict(\"trained_models/model.out\", \"output/predictions.txt\")"
      ]
    },
    {
      "cell_type": "code",
      "execution_count": null,
      "metadata": {
        "id": "ONfSna_Ps7hT"
      },
      "outputs": [],
      "source": [
        "print(classification_report(y_test,Predictions))"
      ]
    },
    {
      "cell_type": "markdown",
      "metadata": {
        "id": "fenGWB8xs7hT"
      },
      "source": [
        "# FFM"
      ]
    },
    {
      "cell_type": "code",
      "execution_count": null,
      "metadata": {
        "id": "P5gIPwu0s7hU"
      },
      "outputs": [],
      "source": [
        "ffm_model = xl.create_ffm()\n",
        "ffm_model.setTrain('x_train.txt')\n",
        "ffm_model.setValidate('x_test.txt')\n",
        "param = {'task':'binary', 'lr':0.2, 'lambda':0.002}\n",
        "ffm_model.fit(param, \"./model.out\")"
      ]
    },
    {
      "cell_type": "code",
      "execution_count": null,
      "metadata": {
        "id": "omFVSHrls7hU"
      },
      "outputs": [],
      "source": [
        "ffm_model.cv(param)"
      ]
    },
    {
      "cell_type": "code",
      "execution_count": null,
      "metadata": {
        "id": "cdOLCse8s7hV"
      },
      "outputs": [],
      "source": [
        "ffm_model.setTest(\"x_test.txt\")\n",
        "ffm_model.setSigmoid()\n",
        "ffm_model.predict(\"trained_models/model.out\", \"output/predictions.txt\")"
      ]
    },
    {
      "cell_type": "code",
      "execution_count": null,
      "metadata": {
        "scrolled": true,
        "id": "kwyXLcoRs7hV"
      },
      "outputs": [],
      "source": [
        "print(classification_report(y_test,Predictions))"
      ]
    },
    {
      "cell_type": "markdown",
      "metadata": {
        "id": "33iDIBnos7hW"
      },
      "source": [
        "## Imbalance - Learn"
      ]
    },
    {
      "cell_type": "markdown",
      "metadata": {
        "id": "rIPXFyhms7hW"
      },
      "source": [
        "### Over-Sampling Method"
      ]
    },
    {
      "cell_type": "code",
      "execution_count": null,
      "metadata": {
        "id": "YAaIG-gNs7hW"
      },
      "outputs": [],
      "source": [
        "from imblearn.datasets import make_imbalance\n",
        "from imblearn.over_sampling import (SMOTE, BorderlineSMOTE, SVMSMOTE, SMOTENC,\n",
        "                                    KMeansSMOTE)\n",
        "from sklearn.utils import resample\n",
        "from sklearn.metrics import accuracy_score"
      ]
    },
    {
      "cell_type": "code",
      "execution_count": null,
      "metadata": {
        "id": "yvJ1pXeWs7hX"
      },
      "outputs": [],
      "source": [
        "# Separate majority and minority classes\n",
        "df_majority = train[train.click==0]\n",
        "df_minority = train[train.click==1]"
      ]
    },
    {
      "cell_type": "code",
      "execution_count": null,
      "metadata": {
        "id": "l3iL2UM0s7hX"
      },
      "outputs": [],
      "source": [
        "df_minority_upsampled = resample(df_minority,\n",
        "                                 replace=True,     # sample with replacement\n",
        "                                 n_samples=3404777,    # to match majority class\n",
        "                                 random_state=123) # reproducible results"
      ]
    },
    {
      "cell_type": "code",
      "execution_count": null,
      "metadata": {
        "id": "fD9cfpsCs7hX"
      },
      "outputs": [],
      "source": [
        "df_upsampled = pd.concat([df_majority, df_minority_upsampled])"
      ]
    },
    {
      "cell_type": "code",
      "execution_count": null,
      "metadata": {
        "id": "ZQ2uFGdWs7hX",
        "outputId": "84309460-c7e2-4ef4-a678-2ea489b6c7a6"
      },
      "outputs": [
        {
          "data": {
            "text/plain": [
              "1    3404777\n",
              "0    3404777\n",
              "Name: click, dtype: int64"
            ]
          },
          "execution_count": 41,
          "metadata": {},
          "output_type": "execute_result"
        }
      ],
      "source": [
        "df_upsampled.click.value_counts()"
      ]
    },
    {
      "cell_type": "code",
      "execution_count": null,
      "metadata": {
        "id": "lvEIC40rs7hY"
      },
      "outputs": [],
      "source": [
        "y = df_upsampled.click\n",
        "X = df_upsampled.drop('click', axis=1)"
      ]
    },
    {
      "cell_type": "code",
      "execution_count": null,
      "metadata": {
        "id": "XS9TRXUhs7hY",
        "outputId": "374bc8dc-7f2c-40d2-83ef-56914aba4d8f"
      },
      "outputs": [
        {
          "name": "stderr",
          "output_type": "stream",
          "text": [
            "C:\\Users\\vivid\\Anaconda3\\lib\\site-packages\\sklearn\\linear_model\\logistic.py:432: FutureWarning: Default solver will be changed to 'lbfgs' in 0.22. Specify a solver to silence this warning.\n",
            "  FutureWarning)\n"
          ]
        }
      ],
      "source": [
        "clf_1 = LogisticRegression().fit(X, y)"
      ]
    },
    {
      "cell_type": "code",
      "execution_count": null,
      "metadata": {
        "id": "qcpEJf4_s7hZ"
      },
      "outputs": [],
      "source": [
        "pred_y_1 = clf_1.predict(X)"
      ]
    },
    {
      "cell_type": "code",
      "execution_count": null,
      "metadata": {
        "id": "DcyXMPLls7hZ",
        "outputId": "0dc57657-6039-460f-b4e5-5e73cb0bd3d6"
      },
      "outputs": [
        {
          "name": "stdout",
          "output_type": "stream",
          "text": [
            "[0 1]\n"
          ]
        }
      ],
      "source": [
        "print(np.unique(pred_y_1))"
      ]
    },
    {
      "cell_type": "code",
      "execution_count": null,
      "metadata": {
        "id": "BQB6Ev0ys7ha",
        "outputId": "e1c1eeaf-9b34-4f11-bc8e-82ec0ee8a0dc"
      },
      "outputs": [
        {
          "name": "stdout",
          "output_type": "stream",
          "text": [
            "0.5652167528152358\n"
          ]
        }
      ],
      "source": [
        "print(accuracy_score(y, pred_y_1))"
      ]
    },
    {
      "cell_type": "code",
      "execution_count": null,
      "metadata": {
        "id": "v62fz1pWs7hb",
        "outputId": "ff99ccb6-dcfb-4a2e-ea28-6fb1ce303561"
      },
      "outputs": [
        {
          "name": "stdout",
          "output_type": "stream",
          "text": [
            "              precision    recall  f1-score   support\n",
            "\n",
            "           0       0.59      0.45      0.51   3404777\n",
            "           1       0.55      0.68      0.61   3404777\n",
            "\n",
            "    accuracy                           0.57   6809554\n",
            "   macro avg       0.57      0.57      0.56   6809554\n",
            "weighted avg       0.57      0.57      0.56   6809554\n",
            "\n"
          ]
        }
      ],
      "source": [
        "print(classification_report(y, pred_y_1))"
      ]
    },
    {
      "cell_type": "code",
      "execution_count": null,
      "metadata": {
        "id": "Zgi45-aIs7hb",
        "outputId": "3278a4a4-1164-4fd5-8b6d-e5c93ac12854"
      },
      "outputs": [
        {
          "name": "stdout",
          "output_type": "stream",
          "text": [
            "[[1524618 1880159]\n",
            " [1080521 2324256]]\n"
          ]
        }
      ],
      "source": [
        "print(confusion_matrix(y, pred_y_1))"
      ]
    },
    {
      "cell_type": "markdown",
      "metadata": {
        "id": "pLiC2ZU4s7hc"
      },
      "source": [
        "### Using SMOTE"
      ]
    },
    {
      "cell_type": "code",
      "execution_count": null,
      "metadata": {
        "id": "wVFy4Pmgs7hc"
      },
      "outputs": [],
      "source": [
        "X_train, X_test, y_train, y_test = train_test_split(train, train['click'], test_size=0.25, random_state=27)"
      ]
    },
    {
      "cell_type": "code",
      "execution_count": null,
      "metadata": {
        "id": "Aw8a7V9Os7hc"
      },
      "outputs": [],
      "source": [
        "sm = SMOTE(random_state=27, ratio=1.0)"
      ]
    },
    {
      "cell_type": "code",
      "execution_count": null,
      "metadata": {
        "id": "_Xbs-o15s7hd"
      },
      "outputs": [],
      "source": [
        "X_train, y_train = sm.fit_sample(X_train, y_train)"
      ]
    },
    {
      "cell_type": "code",
      "execution_count": null,
      "metadata": {
        "id": "90Gygyffs7hd"
      },
      "outputs": [],
      "source": [
        "smote = LogisticRegression(solver='liblinear').fit(X_train, y_train)"
      ]
    },
    {
      "cell_type": "code",
      "execution_count": null,
      "metadata": {
        "id": "QNAuNSpWs7hd"
      },
      "outputs": [],
      "source": [
        "smote_pred = smote.predict(X_test)"
      ]
    },
    {
      "cell_type": "code",
      "execution_count": null,
      "metadata": {
        "id": "XQxcIdlvs7he",
        "outputId": "65dcce3d-326f-4582-92f6-2524fa22c03f"
      },
      "outputs": [
        {
          "data": {
            "text/plain": [
              "0.4883051062867876"
            ]
          },
          "execution_count": 54,
          "metadata": {},
          "output_type": "execute_result"
        }
      ],
      "source": [
        "accuracy_score(y_test, smote_pred)"
      ]
    },
    {
      "cell_type": "code",
      "execution_count": null,
      "metadata": {
        "id": "JOOzZr_Ws7he",
        "outputId": "dca28fe3-5141-45e8-fdc5-4f2ef7694bb0"
      },
      "outputs": [
        {
          "name": "stdout",
          "output_type": "stream",
          "text": [
            "              precision    recall  f1-score   support\n",
            "\n",
            "           0       0.87      0.45      0.59    851178\n",
            "           1       0.21      0.68      0.32    179571\n",
            "\n",
            "    accuracy                           0.49   1030749\n",
            "   macro avg       0.54      0.56      0.45   1030749\n",
            "weighted avg       0.75      0.49      0.54   1030749\n",
            "\n"
          ]
        }
      ],
      "source": [
        "print(classification_report(y_test, smote_pred))"
      ]
    },
    {
      "cell_type": "code",
      "execution_count": null,
      "metadata": {
        "id": "8dlFphVcs7hf",
        "outputId": "6b1d8733-416a-4c6c-a9f5-fb087f754c58"
      },
      "outputs": [
        {
          "name": "stdout",
          "output_type": "stream",
          "text": [
            "[[380756 470422]\n",
            " [ 57007 122564]]\n"
          ]
        }
      ],
      "source": [
        "print(confusion_matrix(y_test, smote_pred))"
      ]
    },
    {
      "cell_type": "markdown",
      "metadata": {
        "id": "NWN3Hs8qs7hf"
      },
      "source": [
        "### Under-Sampling"
      ]
    },
    {
      "cell_type": "code",
      "execution_count": null,
      "metadata": {
        "id": "qJDvB4Yds7hf"
      },
      "outputs": [],
      "source": [
        "y = train.click\n",
        "X = train.drop('click', axis=1)"
      ]
    },
    {
      "cell_type": "code",
      "execution_count": null,
      "metadata": {
        "id": "8LFMU7Ojs7hf"
      },
      "outputs": [],
      "source": [
        "X_train, X_test, y_train, y_test = train_test_split(X, y, test_size=0.25, random_state=27)"
      ]
    },
    {
      "cell_type": "code",
      "execution_count": null,
      "metadata": {
        "id": "5M1lSTk8s7hg"
      },
      "outputs": [],
      "source": [
        "X = pd.concat([X_train, y_train], axis=1)"
      ]
    },
    {
      "cell_type": "code",
      "execution_count": null,
      "metadata": {
        "scrolled": true,
        "id": "WGvYI6Kos7hg"
      },
      "outputs": [],
      "source": [
        "not_click = X[X.click==0]\n",
        "click = X[X.click==1]"
      ]
    },
    {
      "cell_type": "code",
      "execution_count": null,
      "metadata": {
        "id": "zP9gHnNls7hg"
      },
      "outputs": [],
      "source": [
        "not_click_downsampled = resample(not_click,\n",
        "                                replace = False, # sample without replacement\n",
        "                                n_samples = len(click), # match minority n\n",
        "                                random_state = 27) # reproducible results"
      ]
    },
    {
      "cell_type": "code",
      "execution_count": null,
      "metadata": {
        "id": "1ZPq5cvZs7hh"
      },
      "outputs": [],
      "source": [
        "downsampled = pd.concat([not_click_downsampled, click])"
      ]
    },
    {
      "cell_type": "code",
      "execution_count": null,
      "metadata": {
        "id": "76UdUGFqs7hh",
        "outputId": "a5536ff9-1927-4d09-d80e-b3e7cb3a6043"
      },
      "outputs": [
        {
          "data": {
            "text/plain": [
              "1    538647\n",
              "0    538647\n",
              "Name: click, dtype: int64"
            ]
          },
          "execution_count": 30,
          "metadata": {},
          "output_type": "execute_result"
        }
      ],
      "source": [
        "downsampled.click.value_counts()"
      ]
    },
    {
      "cell_type": "code",
      "execution_count": null,
      "metadata": {
        "id": "oepdmi26s7hh"
      },
      "outputs": [],
      "source": [
        "y_train = downsampled.click\n",
        "X_train = downsampled.drop('click', axis=1)"
      ]
    },
    {
      "cell_type": "code",
      "execution_count": null,
      "metadata": {
        "id": "OANa6UU8s7hi"
      },
      "outputs": [],
      "source": [
        "undersampled = LogisticRegression(solver='liblinear').fit(X_train, y_train)"
      ]
    },
    {
      "cell_type": "code",
      "execution_count": null,
      "metadata": {
        "id": "BK6qLaYes7hi"
      },
      "outputs": [],
      "source": [
        "undersampled_pred = undersampled.predict(X_test)"
      ]
    },
    {
      "cell_type": "code",
      "execution_count": null,
      "metadata": {
        "id": "5DgsqABJs7hi",
        "outputId": "7cc3ba18-2277-4e27-8df3-f14cc433acdf"
      },
      "outputs": [
        {
          "data": {
            "text/plain": [
              "0.488814444641712"
            ]
          },
          "execution_count": 35,
          "metadata": {},
          "output_type": "execute_result"
        }
      ],
      "source": [
        "accuracy_score(y_test, undersampled_pred)"
      ]
    },
    {
      "cell_type": "code",
      "execution_count": null,
      "metadata": {
        "id": "OtBCQpX-s7hi",
        "outputId": "a85576b4-61d3-4a14-f548-9fcb637ddcbe"
      },
      "outputs": [
        {
          "name": "stdout",
          "output_type": "stream",
          "text": [
            "              precision    recall  f1-score   support\n",
            "\n",
            "           0       0.87      0.45      0.59    851178\n",
            "           1       0.21      0.68      0.32    179571\n",
            "\n",
            "    accuracy                           0.49   1030749\n",
            "   macro avg       0.54      0.56      0.45   1030749\n",
            "weighted avg       0.75      0.49      0.54   1030749\n",
            "\n"
          ]
        }
      ],
      "source": [
        "print(classification_report(y_test, undersampled_pred))"
      ]
    },
    {
      "cell_type": "code",
      "execution_count": null,
      "metadata": {
        "id": "aEhMIPazs7hj",
        "outputId": "b412bb6d-08b3-4d82-fee0-8724f4de113f"
      },
      "outputs": [
        {
          "name": "stdout",
          "output_type": "stream",
          "text": [
            "[[381394 469784]\n",
            " [ 57120 122451]]\n"
          ]
        }
      ],
      "source": [
        "print(confusion_matrix(y_test, undersampled_pred))"
      ]
    },
    {
      "cell_type": "markdown",
      "metadata": {
        "id": "pmQhNVHSs7hj"
      },
      "source": [
        "### Validating and Checking Accuracy on Actual Test Data"
      ]
    },
    {
      "cell_type": "code",
      "execution_count": null,
      "metadata": {
        "id": "rl7KH7Qzs7hj"
      },
      "outputs": [],
      "source": [
        "test = pd.read_csv('test.gz',compression='gzip')"
      ]
    },
    {
      "cell_type": "code",
      "execution_count": null,
      "metadata": {
        "id": "oyYkIZgus7hj",
        "outputId": "27b8a5cc-6706-436d-e4cb-5d81387068c3"
      },
      "outputs": [
        {
          "data": {
            "text/html": [
              "<div>\n",
              "<style scoped>\n",
              "    .dataframe tbody tr th:only-of-type {\n",
              "        vertical-align: middle;\n",
              "    }\n",
              "\n",
              "    .dataframe tbody tr th {\n",
              "        vertical-align: top;\n",
              "    }\n",
              "\n",
              "    .dataframe thead th {\n",
              "        text-align: right;\n",
              "    }\n",
              "</style>\n",
              "<table border=\"1\" class=\"dataframe\">\n",
              "  <thead>\n",
              "    <tr style=\"text-align: right;\">\n",
              "      <th></th>\n",
              "      <th>id</th>\n",
              "      <th>hour</th>\n",
              "      <th>C1</th>\n",
              "      <th>banner_pos</th>\n",
              "      <th>site_id</th>\n",
              "      <th>site_domain</th>\n",
              "      <th>site_category</th>\n",
              "      <th>app_id</th>\n",
              "      <th>app_domain</th>\n",
              "      <th>app_category</th>\n",
              "      <th>device_id</th>\n",
              "      <th>device_ip</th>\n",
              "      <th>device_model</th>\n",
              "      <th>device_type</th>\n",
              "      <th>device_conn_type</th>\n",
              "      <th>C14</th>\n",
              "      <th>C15</th>\n",
              "      <th>C16</th>\n",
              "      <th>C17</th>\n",
              "      <th>C18</th>\n",
              "      <th>C19</th>\n",
              "      <th>C20</th>\n",
              "      <th>C21</th>\n",
              "    </tr>\n",
              "  </thead>\n",
              "  <tbody>\n",
              "    <tr>\n",
              "      <th>0</th>\n",
              "      <td>1.000017e+19</td>\n",
              "      <td>14103100</td>\n",
              "      <td>1005</td>\n",
              "      <td>0</td>\n",
              "      <td>235ba823</td>\n",
              "      <td>f6ebf28e</td>\n",
              "      <td>f028772b</td>\n",
              "      <td>ecad2386</td>\n",
              "      <td>7801e8d9</td>\n",
              "      <td>07d7df22</td>\n",
              "      <td>a99f214a</td>\n",
              "      <td>69f45779</td>\n",
              "      <td>0eb711ec</td>\n",
              "      <td>1</td>\n",
              "      <td>0</td>\n",
              "      <td>8330</td>\n",
              "      <td>320</td>\n",
              "      <td>50</td>\n",
              "      <td>761</td>\n",
              "      <td>3</td>\n",
              "      <td>175</td>\n",
              "      <td>100075</td>\n",
              "      <td>23</td>\n",
              "    </tr>\n",
              "    <tr>\n",
              "      <th>1</th>\n",
              "      <td>1.000018e+19</td>\n",
              "      <td>14103100</td>\n",
              "      <td>1005</td>\n",
              "      <td>0</td>\n",
              "      <td>1fbe01fe</td>\n",
              "      <td>f3845767</td>\n",
              "      <td>28905ebd</td>\n",
              "      <td>ecad2386</td>\n",
              "      <td>7801e8d9</td>\n",
              "      <td>07d7df22</td>\n",
              "      <td>a99f214a</td>\n",
              "      <td>e8d44657</td>\n",
              "      <td>ecb851b2</td>\n",
              "      <td>1</td>\n",
              "      <td>0</td>\n",
              "      <td>22676</td>\n",
              "      <td>320</td>\n",
              "      <td>50</td>\n",
              "      <td>2616</td>\n",
              "      <td>0</td>\n",
              "      <td>35</td>\n",
              "      <td>100083</td>\n",
              "      <td>51</td>\n",
              "    </tr>\n",
              "    <tr>\n",
              "      <th>2</th>\n",
              "      <td>1.000055e+19</td>\n",
              "      <td>14103100</td>\n",
              "      <td>1005</td>\n",
              "      <td>0</td>\n",
              "      <td>1fbe01fe</td>\n",
              "      <td>f3845767</td>\n",
              "      <td>28905ebd</td>\n",
              "      <td>ecad2386</td>\n",
              "      <td>7801e8d9</td>\n",
              "      <td>07d7df22</td>\n",
              "      <td>a99f214a</td>\n",
              "      <td>10fb085b</td>\n",
              "      <td>1f0bc64f</td>\n",
              "      <td>1</td>\n",
              "      <td>0</td>\n",
              "      <td>22676</td>\n",
              "      <td>320</td>\n",
              "      <td>50</td>\n",
              "      <td>2616</td>\n",
              "      <td>0</td>\n",
              "      <td>35</td>\n",
              "      <td>100083</td>\n",
              "      <td>51</td>\n",
              "    </tr>\n",
              "    <tr>\n",
              "      <th>3</th>\n",
              "      <td>1.000109e+19</td>\n",
              "      <td>14103100</td>\n",
              "      <td>1005</td>\n",
              "      <td>0</td>\n",
              "      <td>85f751fd</td>\n",
              "      <td>c4e18dd6</td>\n",
              "      <td>50e219e0</td>\n",
              "      <td>51cedd4e</td>\n",
              "      <td>aefc06bd</td>\n",
              "      <td>0f2161f8</td>\n",
              "      <td>a99f214a</td>\n",
              "      <td>422d257a</td>\n",
              "      <td>542422a7</td>\n",
              "      <td>1</td>\n",
              "      <td>0</td>\n",
              "      <td>18648</td>\n",
              "      <td>320</td>\n",
              "      <td>50</td>\n",
              "      <td>1092</td>\n",
              "      <td>3</td>\n",
              "      <td>809</td>\n",
              "      <td>100156</td>\n",
              "      <td>61</td>\n",
              "    </tr>\n",
              "    <tr>\n",
              "      <th>4</th>\n",
              "      <td>1.000138e+19</td>\n",
              "      <td>14103100</td>\n",
              "      <td>1005</td>\n",
              "      <td>0</td>\n",
              "      <td>85f751fd</td>\n",
              "      <td>c4e18dd6</td>\n",
              "      <td>50e219e0</td>\n",
              "      <td>9c13b419</td>\n",
              "      <td>2347f47a</td>\n",
              "      <td>f95efa07</td>\n",
              "      <td>a99f214a</td>\n",
              "      <td>078c6b38</td>\n",
              "      <td>1f0bc64f</td>\n",
              "      <td>1</td>\n",
              "      <td>0</td>\n",
              "      <td>23160</td>\n",
              "      <td>320</td>\n",
              "      <td>50</td>\n",
              "      <td>2667</td>\n",
              "      <td>0</td>\n",
              "      <td>47</td>\n",
              "      <td>-1</td>\n",
              "      <td>221</td>\n",
              "    </tr>\n",
              "  </tbody>\n",
              "</table>\n",
              "</div>"
            ],
            "text/plain": [
              "             id      hour    C1  banner_pos   site_id site_domain  \\\n",
              "0  1.000017e+19  14103100  1005           0  235ba823    f6ebf28e   \n",
              "1  1.000018e+19  14103100  1005           0  1fbe01fe    f3845767   \n",
              "2  1.000055e+19  14103100  1005           0  1fbe01fe    f3845767   \n",
              "3  1.000109e+19  14103100  1005           0  85f751fd    c4e18dd6   \n",
              "4  1.000138e+19  14103100  1005           0  85f751fd    c4e18dd6   \n",
              "\n",
              "  site_category    app_id app_domain app_category device_id device_ip  \\\n",
              "0      f028772b  ecad2386   7801e8d9     07d7df22  a99f214a  69f45779   \n",
              "1      28905ebd  ecad2386   7801e8d9     07d7df22  a99f214a  e8d44657   \n",
              "2      28905ebd  ecad2386   7801e8d9     07d7df22  a99f214a  10fb085b   \n",
              "3      50e219e0  51cedd4e   aefc06bd     0f2161f8  a99f214a  422d257a   \n",
              "4      50e219e0  9c13b419   2347f47a     f95efa07  a99f214a  078c6b38   \n",
              "\n",
              "  device_model  device_type  device_conn_type    C14  C15  C16   C17  C18  \\\n",
              "0     0eb711ec            1                 0   8330  320   50   761    3   \n",
              "1     ecb851b2            1                 0  22676  320   50  2616    0   \n",
              "2     1f0bc64f            1                 0  22676  320   50  2616    0   \n",
              "3     542422a7            1                 0  18648  320   50  1092    3   \n",
              "4     1f0bc64f            1                 0  23160  320   50  2667    0   \n",
              "\n",
              "   C19     C20  C21  \n",
              "0  175  100075   23  \n",
              "1   35  100083   51  \n",
              "2   35  100083   51  \n",
              "3  809  100156   61  \n",
              "4   47      -1  221  "
            ]
          },
          "execution_count": 59,
          "metadata": {},
          "output_type": "execute_result"
        }
      ],
      "source": [
        "test.head()"
      ]
    },
    {
      "cell_type": "code",
      "execution_count": null,
      "metadata": {
        "scrolled": true,
        "id": "eFo1YEQws7hk",
        "outputId": "bafc7e0a-d21a-48ce-9d63-b710646a771f"
      },
      "outputs": [
        {
          "data": {
            "text/html": [
              "<div>\n",
              "<style scoped>\n",
              "    .dataframe tbody tr th:only-of-type {\n",
              "        vertical-align: middle;\n",
              "    }\n",
              "\n",
              "    .dataframe tbody tr th {\n",
              "        vertical-align: top;\n",
              "    }\n",
              "\n",
              "    .dataframe thead th {\n",
              "        text-align: right;\n",
              "    }\n",
              "</style>\n",
              "<table border=\"1\" class=\"dataframe\">\n",
              "  <thead>\n",
              "    <tr style=\"text-align: right;\">\n",
              "      <th></th>\n",
              "      <th>date</th>\n",
              "      <th>id</th>\n",
              "    </tr>\n",
              "  </thead>\n",
              "  <tbody>\n",
              "    <tr>\n",
              "      <th>0</th>\n",
              "      <td>2014-10-31-00</td>\n",
              "      <td>90990</td>\n",
              "    </tr>\n",
              "    <tr>\n",
              "      <th>1</th>\n",
              "      <td>2014-10-31-01</td>\n",
              "      <td>94948</td>\n",
              "    </tr>\n",
              "    <tr>\n",
              "      <th>2</th>\n",
              "      <td>2014-10-31-02</td>\n",
              "      <td>117478</td>\n",
              "    </tr>\n",
              "    <tr>\n",
              "      <th>3</th>\n",
              "      <td>2014-10-31-03</td>\n",
              "      <td>98818</td>\n",
              "    </tr>\n",
              "    <tr>\n",
              "      <th>4</th>\n",
              "      <td>2014-10-31-04</td>\n",
              "      <td>129317</td>\n",
              "    </tr>\n",
              "    <tr>\n",
              "      <th>5</th>\n",
              "      <td>2014-10-31-05</td>\n",
              "      <td>145333</td>\n",
              "    </tr>\n",
              "    <tr>\n",
              "      <th>6</th>\n",
              "      <td>2014-10-31-06</td>\n",
              "      <td>268602</td>\n",
              "    </tr>\n",
              "    <tr>\n",
              "      <th>7</th>\n",
              "      <td>2014-10-31-07</td>\n",
              "      <td>291074</td>\n",
              "    </tr>\n",
              "    <tr>\n",
              "      <th>8</th>\n",
              "      <td>2014-10-31-08</td>\n",
              "      <td>208737</td>\n",
              "    </tr>\n",
              "    <tr>\n",
              "      <th>9</th>\n",
              "      <td>2014-10-31-09</td>\n",
              "      <td>299162</td>\n",
              "    </tr>\n",
              "    <tr>\n",
              "      <th>10</th>\n",
              "      <td>2014-10-31-10</td>\n",
              "      <td>250802</td>\n",
              "    </tr>\n",
              "    <tr>\n",
              "      <th>11</th>\n",
              "      <td>2014-10-31-11</td>\n",
              "      <td>271846</td>\n",
              "    </tr>\n",
              "    <tr>\n",
              "      <th>12</th>\n",
              "      <td>2014-10-31-12</td>\n",
              "      <td>221738</td>\n",
              "    </tr>\n",
              "    <tr>\n",
              "      <th>13</th>\n",
              "      <td>2014-10-31-13</td>\n",
              "      <td>271542</td>\n",
              "    </tr>\n",
              "    <tr>\n",
              "      <th>14</th>\n",
              "      <td>2014-10-31-14</td>\n",
              "      <td>258779</td>\n",
              "    </tr>\n",
              "    <tr>\n",
              "      <th>15</th>\n",
              "      <td>2014-10-31-15</td>\n",
              "      <td>294435</td>\n",
              "    </tr>\n",
              "    <tr>\n",
              "      <th>16</th>\n",
              "      <td>2014-10-31-16</td>\n",
              "      <td>259785</td>\n",
              "    </tr>\n",
              "    <tr>\n",
              "      <th>17</th>\n",
              "      <td>2014-10-31-17</td>\n",
              "      <td>214982</td>\n",
              "    </tr>\n",
              "    <tr>\n",
              "      <th>18</th>\n",
              "      <td>2014-10-31-18</td>\n",
              "      <td>223281</td>\n",
              "    </tr>\n",
              "    <tr>\n",
              "      <th>19</th>\n",
              "      <td>2014-10-31-19</td>\n",
              "      <td>158623</td>\n",
              "    </tr>\n",
              "    <tr>\n",
              "      <th>20</th>\n",
              "      <td>2014-10-31-20</td>\n",
              "      <td>128648</td>\n",
              "    </tr>\n",
              "    <tr>\n",
              "      <th>21</th>\n",
              "      <td>2014-10-31-21</td>\n",
              "      <td>104979</td>\n",
              "    </tr>\n",
              "    <tr>\n",
              "      <th>22</th>\n",
              "      <td>2014-10-31-22</td>\n",
              "      <td>91011</td>\n",
              "    </tr>\n",
              "    <tr>\n",
              "      <th>23</th>\n",
              "      <td>2014-10-31-23</td>\n",
              "      <td>82554</td>\n",
              "    </tr>\n",
              "  </tbody>\n",
              "</table>\n",
              "</div>"
            ],
            "text/plain": [
              "             date      id\n",
              "0   2014-10-31-00   90990\n",
              "1   2014-10-31-01   94948\n",
              "2   2014-10-31-02  117478\n",
              "3   2014-10-31-03   98818\n",
              "4   2014-10-31-04  129317\n",
              "5   2014-10-31-05  145333\n",
              "6   2014-10-31-06  268602\n",
              "7   2014-10-31-07  291074\n",
              "8   2014-10-31-08  208737\n",
              "9   2014-10-31-09  299162\n",
              "10  2014-10-31-10  250802\n",
              "11  2014-10-31-11  271846\n",
              "12  2014-10-31-12  221738\n",
              "13  2014-10-31-13  271542\n",
              "14  2014-10-31-14  258779\n",
              "15  2014-10-31-15  294435\n",
              "16  2014-10-31-16  259785\n",
              "17  2014-10-31-17  214982\n",
              "18  2014-10-31-18  223281\n",
              "19  2014-10-31-19  158623\n",
              "20  2014-10-31-20  128648\n",
              "21  2014-10-31-21  104979\n",
              "22  2014-10-31-22   91011\n",
              "23  2014-10-31-23   82554"
            ]
          },
          "execution_count": 60,
          "metadata": {},
          "output_type": "execute_result"
        }
      ],
      "source": [
        "test['hour']=test['hour'].apply(lambda x: x + 2000000000)\n",
        "\n",
        "test['hour']=test['hour'].apply(lambda x: datetime.strptime(str(x), '%Y%m%d%H').strftime('%Y-%m-%d-%H'))\n",
        "\n",
        "test = test.rename(columns={\"hour\": \"date\"})\n",
        "\n",
        "test.groupby('date')['id'].count().reset_index()"
      ]
    },
    {
      "cell_type": "code",
      "execution_count": null,
      "metadata": {
        "id": "qoiSS014s7hk",
        "outputId": "697f2b57-3ffb-441e-ecd0-b0f78860a1b7"
      },
      "outputs": [
        {
          "data": {
            "text/plain": [
              "(4577464, 23)"
            ]
          },
          "execution_count": 61,
          "metadata": {},
          "output_type": "execute_result"
        }
      ],
      "source": [
        "test.shape"
      ]
    },
    {
      "cell_type": "code",
      "execution_count": null,
      "metadata": {
        "id": "_SBzagcJs7hl"
      },
      "outputs": [],
      "source": [
        "test = convert_obj_to_int(test)"
      ]
    },
    {
      "cell_type": "code",
      "execution_count": null,
      "metadata": {
        "id": "skuk_9NQs7hm",
        "outputId": "c9e24623-3750-4c86-f8a7-1e629d324b32"
      },
      "outputs": [
        {
          "data": {
            "text/html": [
              "<div>\n",
              "<style scoped>\n",
              "    .dataframe tbody tr th:only-of-type {\n",
              "        vertical-align: middle;\n",
              "    }\n",
              "\n",
              "    .dataframe tbody tr th {\n",
              "        vertical-align: top;\n",
              "    }\n",
              "\n",
              "    .dataframe thead th {\n",
              "        text-align: right;\n",
              "    }\n",
              "</style>\n",
              "<table border=\"1\" class=\"dataframe\">\n",
              "  <thead>\n",
              "    <tr style=\"text-align: right;\">\n",
              "      <th></th>\n",
              "      <th>id</th>\n",
              "      <th>C1</th>\n",
              "      <th>banner_pos</th>\n",
              "      <th>device_type</th>\n",
              "      <th>device_conn_type</th>\n",
              "      <th>C14</th>\n",
              "      <th>C15</th>\n",
              "      <th>C16</th>\n",
              "      <th>C17</th>\n",
              "      <th>C18</th>\n",
              "      <th>C19</th>\n",
              "      <th>C20</th>\n",
              "      <th>C21</th>\n",
              "      <th>date_int</th>\n",
              "      <th>site_id_int</th>\n",
              "      <th>site_domain_int</th>\n",
              "      <th>site_category_int</th>\n",
              "      <th>app_id_int</th>\n",
              "      <th>app_domain_int</th>\n",
              "      <th>app_category_int</th>\n",
              "      <th>device_id_int</th>\n",
              "      <th>device_ip_int</th>\n",
              "      <th>device_model_int</th>\n",
              "    </tr>\n",
              "  </thead>\n",
              "  <tbody>\n",
              "    <tr>\n",
              "      <th>0</th>\n",
              "      <td>1.000017e+19</td>\n",
              "      <td>1005</td>\n",
              "      <td>0</td>\n",
              "      <td>1</td>\n",
              "      <td>0</td>\n",
              "      <td>8330</td>\n",
              "      <td>320</td>\n",
              "      <td>50</td>\n",
              "      <td>761</td>\n",
              "      <td>3</td>\n",
              "      <td>175</td>\n",
              "      <td>100075</td>\n",
              "      <td>23</td>\n",
              "      <td>-8395007613602687299</td>\n",
              "      <td>-3800484223899672490</td>\n",
              "      <td>1318479553209310443</td>\n",
              "      <td>-8893414329068012023</td>\n",
              "      <td>-4829673787941248262</td>\n",
              "      <td>-613020616740582092</td>\n",
              "      <td>-1508161623420999242</td>\n",
              "      <td>-6325914545430670019</td>\n",
              "      <td>-7118180830746867152</td>\n",
              "      <td>-1586125472635000893</td>\n",
              "    </tr>\n",
              "    <tr>\n",
              "      <th>1</th>\n",
              "      <td>1.000018e+19</td>\n",
              "      <td>1005</td>\n",
              "      <td>0</td>\n",
              "      <td>1</td>\n",
              "      <td>0</td>\n",
              "      <td>22676</td>\n",
              "      <td>320</td>\n",
              "      <td>50</td>\n",
              "      <td>2616</td>\n",
              "      <td>0</td>\n",
              "      <td>35</td>\n",
              "      <td>100083</td>\n",
              "      <td>51</td>\n",
              "      <td>-8395007613602687299</td>\n",
              "      <td>563252818748676209</td>\n",
              "      <td>2678970633790439129</td>\n",
              "      <td>936290421697444965</td>\n",
              "      <td>-4829673787941248262</td>\n",
              "      <td>-613020616740582092</td>\n",
              "      <td>-1508161623420999242</td>\n",
              "      <td>-6325914545430670019</td>\n",
              "      <td>1020342899736387605</td>\n",
              "      <td>-8797371277426231385</td>\n",
              "    </tr>\n",
              "    <tr>\n",
              "      <th>2</th>\n",
              "      <td>1.000055e+19</td>\n",
              "      <td>1005</td>\n",
              "      <td>0</td>\n",
              "      <td>1</td>\n",
              "      <td>0</td>\n",
              "      <td>22676</td>\n",
              "      <td>320</td>\n",
              "      <td>50</td>\n",
              "      <td>2616</td>\n",
              "      <td>0</td>\n",
              "      <td>35</td>\n",
              "      <td>100083</td>\n",
              "      <td>51</td>\n",
              "      <td>-8395007613602687299</td>\n",
              "      <td>563252818748676209</td>\n",
              "      <td>2678970633790439129</td>\n",
              "      <td>936290421697444965</td>\n",
              "      <td>-4829673787941248262</td>\n",
              "      <td>-613020616740582092</td>\n",
              "      <td>-1508161623420999242</td>\n",
              "      <td>-6325914545430670019</td>\n",
              "      <td>1319519836399229941</td>\n",
              "      <td>6324588784001879413</td>\n",
              "    </tr>\n",
              "  </tbody>\n",
              "</table>\n",
              "</div>"
            ],
            "text/plain": [
              "             id    C1  banner_pos  device_type  device_conn_type    C14  C15  \\\n",
              "0  1.000017e+19  1005           0            1                 0   8330  320   \n",
              "1  1.000018e+19  1005           0            1                 0  22676  320   \n",
              "2  1.000055e+19  1005           0            1                 0  22676  320   \n",
              "\n",
              "   C16   C17  C18  C19     C20  C21             date_int          site_id_int  \\\n",
              "0   50   761    3  175  100075   23 -8395007613602687299 -3800484223899672490   \n",
              "1   50  2616    0   35  100083   51 -8395007613602687299   563252818748676209   \n",
              "2   50  2616    0   35  100083   51 -8395007613602687299   563252818748676209   \n",
              "\n",
              "       site_domain_int    site_category_int           app_id_int  \\\n",
              "0  1318479553209310443 -8893414329068012023 -4829673787941248262   \n",
              "1  2678970633790439129   936290421697444965 -4829673787941248262   \n",
              "2  2678970633790439129   936290421697444965 -4829673787941248262   \n",
              "\n",
              "       app_domain_int     app_category_int        device_id_int  \\\n",
              "0 -613020616740582092 -1508161623420999242 -6325914545430670019   \n",
              "1 -613020616740582092 -1508161623420999242 -6325914545430670019   \n",
              "2 -613020616740582092 -1508161623420999242 -6325914545430670019   \n",
              "\n",
              "         device_ip_int     device_model_int  \n",
              "0 -7118180830746867152 -1586125472635000893  \n",
              "1  1020342899736387605 -8797371277426231385  \n",
              "2  1319519836399229941  6324588784001879413  "
            ]
          },
          "execution_count": 63,
          "metadata": {},
          "output_type": "execute_result"
        }
      ],
      "source": [
        "test.head(3)"
      ]
    },
    {
      "cell_type": "code",
      "execution_count": null,
      "metadata": {
        "id": "JZJ4ogwYs7hn",
        "outputId": "a05b2d0e-2e9a-4c1d-c777-f394cf9a6b8a"
      },
      "outputs": [
        {
          "data": {
            "text/html": [
              "<div>\n",
              "<style scoped>\n",
              "    .dataframe tbody tr th:only-of-type {\n",
              "        vertical-align: middle;\n",
              "    }\n",
              "\n",
              "    .dataframe tbody tr th {\n",
              "        vertical-align: top;\n",
              "    }\n",
              "\n",
              "    .dataframe thead th {\n",
              "        text-align: right;\n",
              "    }\n",
              "</style>\n",
              "<table border=\"1\" class=\"dataframe\">\n",
              "  <thead>\n",
              "    <tr style=\"text-align: right;\">\n",
              "      <th></th>\n",
              "      <th>C1</th>\n",
              "      <th>banner_pos</th>\n",
              "      <th>device_type</th>\n",
              "      <th>device_conn_type</th>\n",
              "      <th>C14</th>\n",
              "      <th>C15</th>\n",
              "      <th>C16</th>\n",
              "      <th>C17</th>\n",
              "      <th>C18</th>\n",
              "      <th>C19</th>\n",
              "      <th>C20</th>\n",
              "      <th>C21</th>\n",
              "      <th>site_id_int</th>\n",
              "      <th>site_domain_int</th>\n",
              "      <th>site_category_int</th>\n",
              "      <th>app_id_int</th>\n",
              "      <th>app_domain_int</th>\n",
              "      <th>app_category_int</th>\n",
              "      <th>device_id_int</th>\n",
              "      <th>device_ip_int</th>\n",
              "      <th>device_model_int</th>\n",
              "    </tr>\n",
              "  </thead>\n",
              "  <tbody>\n",
              "    <tr>\n",
              "      <th>0</th>\n",
              "      <td>1005</td>\n",
              "      <td>0</td>\n",
              "      <td>1</td>\n",
              "      <td>0</td>\n",
              "      <td>8330</td>\n",
              "      <td>320</td>\n",
              "      <td>50</td>\n",
              "      <td>761</td>\n",
              "      <td>3</td>\n",
              "      <td>175</td>\n",
              "      <td>100075</td>\n",
              "      <td>23</td>\n",
              "      <td>-3800484223899672490</td>\n",
              "      <td>1318479553209310443</td>\n",
              "      <td>-8893414329068012023</td>\n",
              "      <td>-4829673787941248262</td>\n",
              "      <td>-613020616740582092</td>\n",
              "      <td>-1508161623420999242</td>\n",
              "      <td>-6325914545430670019</td>\n",
              "      <td>-7118180830746867152</td>\n",
              "      <td>-1586125472635000893</td>\n",
              "    </tr>\n",
              "    <tr>\n",
              "      <th>1</th>\n",
              "      <td>1005</td>\n",
              "      <td>0</td>\n",
              "      <td>1</td>\n",
              "      <td>0</td>\n",
              "      <td>22676</td>\n",
              "      <td>320</td>\n",
              "      <td>50</td>\n",
              "      <td>2616</td>\n",
              "      <td>0</td>\n",
              "      <td>35</td>\n",
              "      <td>100083</td>\n",
              "      <td>51</td>\n",
              "      <td>563252818748676209</td>\n",
              "      <td>2678970633790439129</td>\n",
              "      <td>936290421697444965</td>\n",
              "      <td>-4829673787941248262</td>\n",
              "      <td>-613020616740582092</td>\n",
              "      <td>-1508161623420999242</td>\n",
              "      <td>-6325914545430670019</td>\n",
              "      <td>1020342899736387605</td>\n",
              "      <td>-8797371277426231385</td>\n",
              "    </tr>\n",
              "    <tr>\n",
              "      <th>2</th>\n",
              "      <td>1005</td>\n",
              "      <td>0</td>\n",
              "      <td>1</td>\n",
              "      <td>0</td>\n",
              "      <td>22676</td>\n",
              "      <td>320</td>\n",
              "      <td>50</td>\n",
              "      <td>2616</td>\n",
              "      <td>0</td>\n",
              "      <td>35</td>\n",
              "      <td>100083</td>\n",
              "      <td>51</td>\n",
              "      <td>563252818748676209</td>\n",
              "      <td>2678970633790439129</td>\n",
              "      <td>936290421697444965</td>\n",
              "      <td>-4829673787941248262</td>\n",
              "      <td>-613020616740582092</td>\n",
              "      <td>-1508161623420999242</td>\n",
              "      <td>-6325914545430670019</td>\n",
              "      <td>1319519836399229941</td>\n",
              "      <td>6324588784001879413</td>\n",
              "    </tr>\n",
              "    <tr>\n",
              "      <th>3</th>\n",
              "      <td>1005</td>\n",
              "      <td>0</td>\n",
              "      <td>1</td>\n",
              "      <td>0</td>\n",
              "      <td>18648</td>\n",
              "      <td>320</td>\n",
              "      <td>50</td>\n",
              "      <td>1092</td>\n",
              "      <td>3</td>\n",
              "      <td>809</td>\n",
              "      <td>100156</td>\n",
              "      <td>61</td>\n",
              "      <td>-3041040940942331937</td>\n",
              "      <td>-1758382057870279444</td>\n",
              "      <td>1995042437856922505</td>\n",
              "      <td>-3539984906138104239</td>\n",
              "      <td>8575684353713020006</td>\n",
              "      <td>6742733635879456869</td>\n",
              "      <td>-6325914545430670019</td>\n",
              "      <td>7837753533344330423</td>\n",
              "      <td>6092412861452464846</td>\n",
              "    </tr>\n",
              "    <tr>\n",
              "      <th>4</th>\n",
              "      <td>1005</td>\n",
              "      <td>0</td>\n",
              "      <td>1</td>\n",
              "      <td>0</td>\n",
              "      <td>23160</td>\n",
              "      <td>320</td>\n",
              "      <td>50</td>\n",
              "      <td>2667</td>\n",
              "      <td>0</td>\n",
              "      <td>47</td>\n",
              "      <td>-1</td>\n",
              "      <td>221</td>\n",
              "      <td>-3041040940942331937</td>\n",
              "      <td>-1758382057870279444</td>\n",
              "      <td>1995042437856922505</td>\n",
              "      <td>3958632988940458928</td>\n",
              "      <td>1194798377035643008</td>\n",
              "      <td>169897843225842710</td>\n",
              "      <td>-6325914545430670019</td>\n",
              "      <td>-3822529733723338898</td>\n",
              "      <td>6324588784001879413</td>\n",
              "    </tr>\n",
              "  </tbody>\n",
              "</table>\n",
              "</div>"
            ],
            "text/plain": [
              "     C1  banner_pos  device_type  device_conn_type    C14  C15  C16   C17  \\\n",
              "0  1005           0            1                 0   8330  320   50   761   \n",
              "1  1005           0            1                 0  22676  320   50  2616   \n",
              "2  1005           0            1                 0  22676  320   50  2616   \n",
              "3  1005           0            1                 0  18648  320   50  1092   \n",
              "4  1005           0            1                 0  23160  320   50  2667   \n",
              "\n",
              "   C18  C19     C20  C21          site_id_int      site_domain_int  \\\n",
              "0    3  175  100075   23 -3800484223899672490  1318479553209310443   \n",
              "1    0   35  100083   51   563252818748676209  2678970633790439129   \n",
              "2    0   35  100083   51   563252818748676209  2678970633790439129   \n",
              "3    3  809  100156   61 -3041040940942331937 -1758382057870279444   \n",
              "4    0   47      -1  221 -3041040940942331937 -1758382057870279444   \n",
              "\n",
              "     site_category_int           app_id_int       app_domain_int  \\\n",
              "0 -8893414329068012023 -4829673787941248262  -613020616740582092   \n",
              "1   936290421697444965 -4829673787941248262  -613020616740582092   \n",
              "2   936290421697444965 -4829673787941248262  -613020616740582092   \n",
              "3  1995042437856922505 -3539984906138104239  8575684353713020006   \n",
              "4  1995042437856922505  3958632988940458928  1194798377035643008   \n",
              "\n",
              "      app_category_int        device_id_int        device_ip_int  \\\n",
              "0 -1508161623420999242 -6325914545430670019 -7118180830746867152   \n",
              "1 -1508161623420999242 -6325914545430670019  1020342899736387605   \n",
              "2 -1508161623420999242 -6325914545430670019  1319519836399229941   \n",
              "3  6742733635879456869 -6325914545430670019  7837753533344330423   \n",
              "4   169897843225842710 -6325914545430670019 -3822529733723338898   \n",
              "\n",
              "      device_model_int  \n",
              "0 -1586125472635000893  \n",
              "1 -8797371277426231385  \n",
              "2  6324588784001879413  \n",
              "3  6092412861452464846  \n",
              "4  6324588784001879413  "
            ]
          },
          "execution_count": 65,
          "metadata": {},
          "output_type": "execute_result"
        }
      ],
      "source": [
        "test.drop('id', axis=1, inplace=True)\n",
        "test.drop('date_int', axis=1, inplace=True)\n",
        "\n",
        "test.head()"
      ]
    },
    {
      "cell_type": "code",
      "execution_count": null,
      "metadata": {
        "id": "QXL1zCrIs7hn"
      },
      "outputs": [],
      "source": [
        "pred_y_1 = clf_1.predict(test)"
      ]
    },
    {
      "cell_type": "code",
      "execution_count": null,
      "metadata": {
        "id": "qqDliFacs7ho",
        "outputId": "3b2f8749-0391-40cf-96ab-1763e51ba5ce"
      },
      "outputs": [
        {
          "name": "stdout",
          "output_type": "stream",
          "text": [
            "[0 1]\n"
          ]
        }
      ],
      "source": [
        "print(np.unique(pred_y_1))"
      ]
    },
    {
      "cell_type": "code",
      "execution_count": null,
      "metadata": {
        "id": "9kRZI8mCs7ho",
        "outputId": "3e813781-ce3f-45f9-858a-23ae3bbef08b"
      },
      "outputs": [
        {
          "name": "stdout",
          "output_type": "stream",
          "text": [
            "[1 1 1 ... 1 0 0]\n"
          ]
        }
      ],
      "source": [
        "print(pred_y_1)"
      ]
    },
    {
      "cell_type": "code",
      "execution_count": null,
      "metadata": {
        "id": "SLss293gs7hp"
      },
      "outputs": [],
      "source": [
        "sampleSubmission = pd.read_csv('sampleSubmission.gz',compression='gzip')"
      ]
    },
    {
      "cell_type": "code",
      "execution_count": null,
      "metadata": {
        "id": "PZqm-07ws7hp",
        "outputId": "43fff3e1-33b8-4265-ae76-b3bb651a7cc7"
      },
      "outputs": [
        {
          "data": {
            "text/html": [
              "<div>\n",
              "<style scoped>\n",
              "    .dataframe tbody tr th:only-of-type {\n",
              "        vertical-align: middle;\n",
              "    }\n",
              "\n",
              "    .dataframe tbody tr th {\n",
              "        vertical-align: top;\n",
              "    }\n",
              "\n",
              "    .dataframe thead th {\n",
              "        text-align: right;\n",
              "    }\n",
              "</style>\n",
              "<table border=\"1\" class=\"dataframe\">\n",
              "  <thead>\n",
              "    <tr style=\"text-align: right;\">\n",
              "      <th></th>\n",
              "      <th>id</th>\n",
              "      <th>click</th>\n",
              "    </tr>\n",
              "  </thead>\n",
              "  <tbody>\n",
              "    <tr>\n",
              "      <th>0</th>\n",
              "      <td>10000174058809263569</td>\n",
              "      <td>0.5</td>\n",
              "    </tr>\n",
              "    <tr>\n",
              "      <th>1</th>\n",
              "      <td>10000182526920855428</td>\n",
              "      <td>0.5</td>\n",
              "    </tr>\n",
              "    <tr>\n",
              "      <th>2</th>\n",
              "      <td>10000554139829213984</td>\n",
              "      <td>0.5</td>\n",
              "    </tr>\n",
              "    <tr>\n",
              "      <th>3</th>\n",
              "      <td>10001094637809798845</td>\n",
              "      <td>0.5</td>\n",
              "    </tr>\n",
              "    <tr>\n",
              "      <th>4</th>\n",
              "      <td>10001377041558670745</td>\n",
              "      <td>0.5</td>\n",
              "    </tr>\n",
              "  </tbody>\n",
              "</table>\n",
              "</div>"
            ],
            "text/plain": [
              "                     id  click\n",
              "0  10000174058809263569    0.5\n",
              "1  10000182526920855428    0.5\n",
              "2  10000554139829213984    0.5\n",
              "3  10001094637809798845    0.5\n",
              "4  10001377041558670745    0.5"
            ]
          },
          "execution_count": 102,
          "metadata": {},
          "output_type": "execute_result"
        }
      ],
      "source": [
        "sampleSubmission.head()"
      ]
    },
    {
      "cell_type": "code",
      "execution_count": null,
      "metadata": {
        "id": "bI25plB3s7hp"
      },
      "outputs": [],
      "source": [
        "sampleSubmission['click'] = pred_y_1"
      ]
    },
    {
      "cell_type": "code",
      "execution_count": null,
      "metadata": {
        "id": "gJFmws9Ps7hq"
      },
      "outputs": [],
      "source": [
        "sampleSubmission.to_csv('sampleSubmission.csv', mode = 'w', index=False)"
      ]
    }
  ],
  "metadata": {
    "kernelspec": {
      "display_name": "Python 3",
      "language": "python",
      "name": "python3"
    },
    "language_info": {
      "codemirror_mode": {
        "name": "ipython",
        "version": 3
      },
      "file_extension": ".py",
      "mimetype": "text/x-python",
      "name": "python",
      "nbconvert_exporter": "python",
      "pygments_lexer": "ipython3",
      "version": "3.7.3"
    },
    "colab": {
      "provenance": []
    }
  },
  "nbformat": 4,
  "nbformat_minor": 0
}